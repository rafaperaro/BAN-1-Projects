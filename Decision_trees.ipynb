{
  "nbformat": 4,
  "nbformat_minor": 0,
  "metadata": {
    "colab": {
      "provenance": []
    },
    "kernelspec": {
      "name": "python3",
      "display_name": "Python 3"
    },
    "language_info": {
      "name": "python"
    }
  },
  "cells": [
    {
      "cell_type": "code",
      "execution_count": null,
      "metadata": {
        "colab": {
          "base_uri": "https://localhost:8080/"
        },
        "id": "f92vNUfCNldu",
        "outputId": "a9072617-e637-4378-cc98-43834085dfae"
      },
      "outputs": [
        {
          "output_type": "stream",
          "name": "stdout",
          "text": [
            "Accuracy: 0.9444444444444444\n"
          ]
        }
      ],
      "source": [
        "from sklearn.datasets import load_wine\n",
        "from sklearn.tree import DecisionTreeClassifier\n",
        "from sklearn.model_selection import train_test_split\n",
        "from sklearn.metrics import accuracy_score\n",
        "\n",
        "# Load the wine dataset\n",
        "wine = load_wine()\n",
        "X = wine.data\n",
        "y = wine.target\n",
        "\n",
        "# Split the dataset into training and testing sets\n",
        "X_train, X_test, y_train, y_test = train_test_split(X, y, test_size=0.2, random_state=42)\n",
        "\n",
        "# Create a Decision Tree classifier\n",
        "clf = DecisionTreeClassifier()\n",
        "\n",
        "# Fit the classifier to the training data\n",
        "clf.fit(X_train, y_train)\n",
        "\n",
        "# Make predictions on the test set\n",
        "y_pred = clf.predict(X_test)\n",
        "\n",
        "# Calculate accuracy\n",
        "accuracy = accuracy_score(y_test, y_pred)\n",
        "print(f\"Accuracy: {accuracy}\")\n"
      ]
    },
    {
      "cell_type": "code",
      "source": [
        "from sklearn.datasets import load_wine\n",
        "from sklearn.tree import DecisionTreeClassifier\n",
        "from sklearn.model_selection import train_test_split\n",
        "from sklearn.metrics import confusion_matrix\n",
        "import seaborn as sns\n",
        "import matplotlib.pyplot as plt\n",
        "\n",
        "# Load the wine dataset\n",
        "wine = load_wine()\n",
        "X = wine.data\n",
        "y = wine.target\n",
        "\n",
        "# Split the dataset into training and testing sets\n",
        "X_train, X_test, y_train, y_test = train_test_split(X, y, test_size=0.2, random_state=42)\n",
        "\n",
        "# Create a Decision Tree classifier\n",
        "clf = DecisionTreeClassifier()\n",
        "\n",
        "# Fit the classifier to the training data\n",
        "clf.fit(X_train, y_train)\n",
        "\n",
        "# Make predictions on the test set\n",
        "y_pred = clf.predict(X_test)\n",
        "\n",
        "# Create a confusion matrix\n",
        "confusion = confusion_matrix(y_test, y_pred)\n",
        "\n",
        "# Create a Seaborn heatmap for the confusion matrix\n",
        "sns.heatmap(confusion, annot=True, fmt='d', cmap='Blues')\n",
        "\n",
        "# Add labels and a title\n",
        "plt.xlabel('Predicted')\n",
        "plt.ylabel('Actual')\n",
        "plt.title('Confusion Matrix Heatmap')\n",
        "\n",
        "# Show the plot\n",
        "plt.show()\n"
      ],
      "metadata": {
        "colab": {
          "base_uri": "https://localhost:8080/",
          "height": 472
        },
        "id": "YKoDKgdGODh4",
        "outputId": "4147eb6a-4910-411b-963d-8f8759e07e82"
      },
      "execution_count": null,
      "outputs": [
        {
          "output_type": "display_data",
          "data": {
            "text/plain": [
              "<Figure size 640x480 with 2 Axes>"
            ],
            "image/png": "[encoded data removed]"
          },
          "metadata": {}
        }
      ]
    },
    {
      "cell_type": "markdown",
      "source": [
        "Accuracy = Correct/Overall\n",
        "\n",
        "Accuracy = (13 + 14 + 7)/(13 + 14 + 7 + 1 + 1) = 94%\n",
        "\n",
        "Missclassification = (1+1)/(13 + 14 + 7 + 1 + 1) = 6%"
      ],
      "metadata": {
        "id": "qDxo8njYSUn2"
      }
    },
    {
      "cell_type": "markdown",
      "source": [
        "#Decision Tree\n",
        "\n",
        "- Based on certain factors, the model classifies/groups the data points into categories\n",
        "- It's used for both regression tasks and classification tasks\n",
        "- Even if the target is a number, a decision tree will work\n",
        "- Even if the target is a category, a decision tree will work\n",
        "- Decision trees tend to have extremely high accuracy\n",
        "- They calculate based on probabilities - For each point, the probability of being classified as a number or a category is extremly high.\n",
        "- f(x) = function calculates probabilities instead of coefficients.\n",
        "\n",
        "- Conditional probabilities\n",
        "- P(G|S1) = 0.5 * 0.6\n",
        "- P(B|S1) = 0.3 * 0.6\n",
        "- P(A|S1) = 0.2 * 0.6\n",
        "\n",
        "- P(G|S2) = 0.7 * 0.4\n",
        "- P(B|S2) = 0.2 * 0.4\n",
        "- P(A|S2) = 0.1 * 0.4\n",
        "\n",
        "I had 100 products, what is the probability that it is a good part from s2.\n",
        "\n",
        "- 100 * 0.7 *0.4 = 28 parts\n",
        "- 100 * 0.3 * 0.6 = 18 parts\n",
        "\n",
        "- It considers every possible factor, and calculates the probability.\n"
      ],
      "metadata": {
        "id": "d-ilk6fuO7gt"
      }
    },
    {
      "cell_type": "markdown",
      "source": [
        "# Regression\n",
        "\n",
        "- We loook at an equation of a line.\n",
        "- y = mx + b\n",
        "- y = f(x) = function is an equation of a line"
      ],
      "metadata": {
        "id": "ySal2ICnPolK"
      }
    }
  ]
}