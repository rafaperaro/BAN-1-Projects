{
  "nbformat": 4,
  "nbformat_minor": 0,
  "metadata": {
    "colab": {
      "provenance": []
    },
    "kernelspec": {
      "name": "python3",
      "display_name": "Python 3"
    },
    "language_info": {
      "name": "python"
    }
  },
  "cells": [
    {
      "cell_type": "code",
      "execution_count": 199,
      "metadata": {
        "id": "PhOAGUvGCpRp"
      },
      "outputs": [],
      "source": [
        "import pandas as pd\n",
        "import numpy as np\n",
        "import matplotlib.pyplot as plt\n",
        "from sklearn.datasets import fetch_california_housing"
      ]
    },
    {
      "cell_type": "code",
      "source": [
        "# Fetch the California Housing dataset\n",
        "california_housing = fetch_california_housing()\n",
        "\n",
        "# Create a DataFrame from the dataset\n",
        "df = pd.DataFrame(data=california_housing.data, columns=california_housing.feature_names)\n",
        "\n",
        "# Add the target variable to the DataFrame\n",
        "df['MedHouseVal'] = california_housing.target\n",
        "\n",
        "# Display the DataFrame\n",
        "df.head(10)"
      ],
      "metadata": {
        "colab": {
          "base_uri": "https://localhost:8080/",
          "height": 359
        },
        "id": "b1jgS_YcCy5S",
        "outputId": "ad45ab09-22c5-47de-ba7d-4be9b6f25861"
      },
      "execution_count": 200,
      "outputs": [
        {
          "output_type": "execute_result",
          "data": {
            "text/plain": [
              "   MedInc  HouseAge  AveRooms  AveBedrms  Population  AveOccup  Latitude  \\\n",
              "0  8.3252      41.0  6.984127   1.023810       322.0  2.555556     37.88   \n",
              "1  8.3014      21.0  6.238137   0.971880      2401.0  2.109842     37.86   \n",
              "2  7.2574      52.0  8.288136   1.073446       496.0  2.802260     37.85   \n",
              "3  5.6431      52.0  5.817352   1.073059       558.0  2.547945     37.85   \n",
              "4  3.8462      52.0  6.281853   1.081081       565.0  2.181467     37.85   \n",
              "5  4.0368      52.0  4.761658   1.103627       413.0  2.139896     37.85   \n",
              "6  3.6591      52.0  4.931907   0.951362      1094.0  2.128405     37.84   \n",
              "7  3.1200      52.0  4.797527   1.061824      1157.0  1.788253     37.84   \n",
              "8  2.0804      42.0  4.294118   1.117647      1206.0  2.026891     37.84   \n",
              "9  3.6912      52.0  4.970588   0.990196      1551.0  2.172269     37.84   \n",
              "\n",
              "   Longitude  MedHouseVal  \n",
              "0    -122.23        4.526  \n",
              "1    -122.22        3.585  \n",
              "2    -122.24        3.521  \n",
              "3    -122.25        3.413  \n",
              "4    -122.25        3.422  \n",
              "5    -122.25        2.697  \n",
              "6    -122.25        2.992  \n",
              "7    -122.25        2.414  \n",
              "8    -122.26        2.267  \n",
              "9    -122.25        2.611  "
            ],
            "text/html": [
              "\n",
              "  <div id=\"df-c1a9d493-a80b-407e-ada7-94cdb337f805\" class=\"colab-df-container\">\n",
              "    <div>\n",
              "<style scoped>\n",
              "    .dataframe tbody tr th:only-of-type {\n",
              "        vertical-align: middle;\n",
              "    }\n",
              "\n",
              "    .dataframe tbody tr th {\n",
              "        vertical-align: top;\n",
              "    }\n",
              "\n",
              "    .dataframe thead th {\n",
              "        text-align: right;\n",
              "    }\n",
              "</style>\n",
              "<table border=\"1\" class=\"dataframe\">\n",
              "  <thead>\n",
              "    <tr style=\"text-align: right;\">\n",
              "      <th></th>\n",
              "      <th>MedInc</th>\n",
              "      <th>HouseAge</th>\n",
              "      <th>AveRooms</th>\n",
              "      <th>AveBedrms</th>\n",
              "      <th>Population</th>\n",
              "      <th>AveOccup</th>\n",
              "      <th>Latitude</th>\n",
              "      <th>Longitude</th>\n",
              "      <th>MedHouseVal</th>\n",
              "    </tr>\n",
              "  </thead>\n",
              "  <tbody>\n",
              "    <tr>\n",
              "      <th>0</th>\n",
              "      <td>8.3252</td>\n",
              "      <td>41.0</td>\n",
              "      <td>6.984127</td>\n",
              "      <td>1.023810</td>\n",
              "      <td>322.0</td>\n",
              "      <td>2.555556</td>\n",
              "      <td>37.88</td>\n",
              "      <td>-122.23</td>\n",
              "      <td>4.526</td>\n",
              "    </tr>\n",
              "    <tr>\n",
              "      <th>1</th>\n",
              "      <td>8.3014</td>\n",
              "      <td>21.0</td>\n",
              "      <td>6.238137</td>\n",
              "      <td>0.971880</td>\n",
              "      <td>2401.0</td>\n",
              "      <td>2.109842</td>\n",
              "      <td>37.86</td>\n",
              "      <td>-122.22</td>\n",
              "      <td>3.585</td>\n",
              "    </tr>\n",
              "    <tr>\n",
              "      <th>2</th>\n",
              "      <td>7.2574</td>\n",
              "      <td>52.0</td>\n",
              "      <td>8.288136</td>\n",
              "      <td>1.073446</td>\n",
              "      <td>496.0</td>\n",
              "      <td>2.802260</td>\n",
              "      <td>37.85</td>\n",
              "      <td>-122.24</td>\n",
              "      <td>3.521</td>\n",
              "    </tr>\n",
              "    <tr>\n",
              "      <th>3</th>\n",
              "      <td>5.6431</td>\n",
              "      <td>52.0</td>\n",
              "      <td>5.817352</td>\n",
              "      <td>1.073059</td>\n",
              "      <td>558.0</td>\n",
              "      <td>2.547945</td>\n",
              "      <td>37.85</td>\n",
              "      <td>-122.25</td>\n",
              "      <td>3.413</td>\n",
              "    </tr>\n",
              "    <tr>\n",
              "      <th>4</th>\n",
              "      <td>3.8462</td>\n",
              "      <td>52.0</td>\n",
              "      <td>6.281853</td>\n",
              "      <td>1.081081</td>\n",
              "      <td>565.0</td>\n",
              "      <td>2.181467</td>\n",
              "      <td>37.85</td>\n",
              "      <td>-122.25</td>\n",
              "      <td>3.422</td>\n",
              "    </tr>\n",
              "    <tr>\n",
              "      <th>5</th>\n",
              "      <td>4.0368</td>\n",
              "      <td>52.0</td>\n",
              "      <td>4.761658</td>\n",
              "      <td>1.103627</td>\n",
              "      <td>413.0</td>\n",
              "      <td>2.139896</td>\n",
              "      <td>37.85</td>\n",
              "      <td>-122.25</td>\n",
              "      <td>2.697</td>\n",
              "    </tr>\n",
              "    <tr>\n",
              "      <th>6</th>\n",
              "      <td>3.6591</td>\n",
              "      <td>52.0</td>\n",
              "      <td>4.931907</td>\n",
              "      <td>0.951362</td>\n",
              "      <td>1094.0</td>\n",
              "      <td>2.128405</td>\n",
              "      <td>37.84</td>\n",
              "      <td>-122.25</td>\n",
              "      <td>2.992</td>\n",
              "    </tr>\n",
              "    <tr>\n",
              "      <th>7</th>\n",
              "      <td>3.1200</td>\n",
              "      <td>52.0</td>\n",
              "      <td>4.797527</td>\n",
              "      <td>1.061824</td>\n",
              "      <td>1157.0</td>\n",
              "      <td>1.788253</td>\n",
              "      <td>37.84</td>\n",
              "      <td>-122.25</td>\n",
              "      <td>2.414</td>\n",
              "    </tr>\n",
              "    <tr>\n",
              "      <th>8</th>\n",
              "      <td>2.0804</td>\n",
              "      <td>42.0</td>\n",
              "      <td>4.294118</td>\n",
              "      <td>1.117647</td>\n",
              "      <td>1206.0</td>\n",
              "      <td>2.026891</td>\n",
              "      <td>37.84</td>\n",
              "      <td>-122.26</td>\n",
              "      <td>2.267</td>\n",
              "    </tr>\n",
              "    <tr>\n",
              "      <th>9</th>\n",
              "      <td>3.6912</td>\n",
              "      <td>52.0</td>\n",
              "      <td>4.970588</td>\n",
              "      <td>0.990196</td>\n",
              "      <td>1551.0</td>\n",
              "      <td>2.172269</td>\n",
              "      <td>37.84</td>\n",
              "      <td>-122.25</td>\n",
              "      <td>2.611</td>\n",
              "    </tr>\n",
              "  </tbody>\n",
              "</table>\n",
              "</div>\n",
              "    <div class=\"colab-df-buttons\">\n",
              "\n",
              "  <div class=\"colab-df-container\">\n",
              "    <button class=\"colab-df-convert\" onclick=\"convertToInteractive('df-c1a9d493-a80b-407e-ada7-94cdb337f805')\"\n",
              "            title=\"Convert this dataframe to an interactive table.\"\n",
              "            style=\"display:none;\">\n",
              "\n",
              "  <svg xmlns=\"http://www.w3.org/2000/svg\" height=\"24px\" viewBox=\"0 -960 960 960\">\n",
              "    <path d=\"M120-120v-720h720v720H120Zm60-500h600v-160H180v160Zm220 220h160v-160H400v160Zm0 220h160v-160H400v160ZM180-400h160v-160H180v160Zm440 0h160v-160H620v160ZM180-180h160v-160H180v160Zm440 0h160v-160H620v160Z\"/>\n",
              "  </svg>\n",
              "    </button>\n",
              "\n",
              "  <style>\n",
              "    .colab-df-container {\n",
              "      display:flex;\n",
              "      gap: 12px;\n",
              "    }\n",
              "\n",
              "    .colab-df-convert {\n",
              "      background-color: #E8F0FE;\n",
              "      border: none;\n",
              "      border-radius: 50%;\n",
              "      cursor: pointer;\n",
              "      display: none;\n",
              "      fill: #1967D2;\n",
              "      height: 32px;\n",
              "      padding: 0 0 0 0;\n",
              "      width: 32px;\n",
              "    }\n",
              "\n",
              "    .colab-df-convert:hover {\n",
              "      background-color: #E2EBFA;\n",
              "      box-shadow: 0px 1px 2px rgba(60, 64, 67, 0.3), 0px 1px 3px 1px rgba(60, 64, 67, 0.15);\n",
              "      fill: #174EA6;\n",
              "    }\n",
              "\n",
              "    .colab-df-buttons div {\n",
              "      margin-bottom: 4px;\n",
              "    }\n",
              "\n",
              "    [theme=dark] .colab-df-convert {\n",
              "      background-color: #3B4455;\n",
              "      fill: #D2E3FC;\n",
              "    }\n",
              "\n",
              "    [theme=dark] .colab-df-convert:hover {\n",
              "      background-color: #434B5C;\n",
              "      box-shadow: 0px 1px 3px 1px rgba(0, 0, 0, 0.15);\n",
              "      filter: drop-shadow(0px 1px 2px rgba(0, 0, 0, 0.3));\n",
              "      fill: #FFFFFF;\n",
              "    }\n",
              "  </style>\n",
              "\n",
              "    <script>\n",
              "      const buttonEl =\n",
              "        document.querySelector('#df-c1a9d493-a80b-407e-ada7-94cdb337f805 button.colab-df-convert');\n",
              "      buttonEl.style.display =\n",
              "        google.colab.kernel.accessAllowed ? 'block' : 'none';\n",
              "\n",
              "      async function convertToInteractive(key) {\n",
              "        const element = document.querySelector('#df-c1a9d493-a80b-407e-ada7-94cdb337f805');\n",
              "        const dataTable =\n",
              "          await google.colab.kernel.invokeFunction('convertToInteractive',\n",
              "                                                    [key], {});\n",
              "        if (!dataTable) return;\n",
              "\n",
              "        const docLinkHtml = 'Like what you see? Visit the ' +\n",
              "          '<a target=\"_blank\" href=https://colab.research.google.com/notebooks/data_table.ipynb>data table notebook</a>'\n",
              "          + ' to learn more about interactive tables.';\n",
              "        element.innerHTML = '';\n",
              "        dataTable['output_type'] = 'display_data';\n",
              "        await google.colab.output.renderOutput(dataTable, element);\n",
              "        const docLink = document.createElement('div');\n",
              "        docLink.innerHTML = docLinkHtml;\n",
              "        element.appendChild(docLink);\n",
              "      }\n",
              "    </script>\n",
              "  </div>\n",
              "\n",
              "\n",
              "<div id=\"df-9d1de993-adec-4cfd-a31c-a0592e7d7ea1\">\n",
              "  <button class=\"colab-df-quickchart\" onclick=\"quickchart('df-9d1de993-adec-4cfd-a31c-a0592e7d7ea1')\"\n",
              "            title=\"Suggest charts.\"\n",
              "            style=\"display:none;\">\n",
              "\n",
              "<svg xmlns=\"http://www.w3.org/2000/svg\" height=\"24px\"viewBox=\"0 0 24 24\"\n",
              "     width=\"24px\">\n",
              "    <g>\n",
              "        <path d=\"M19 3H5c-1.1 0-2 .9-2 2v14c0 1.1.9 2 2 2h14c1.1 0 2-.9 2-2V5c0-1.1-.9-2-2-2zM9 17H7v-7h2v7zm4 0h-2V7h2v10zm4 0h-2v-4h2v4z\"/>\n",
              "    </g>\n",
              "</svg>\n",
              "  </button>\n",
              "\n",
              "<style>\n",
              "  .colab-df-quickchart {\n",
              "      --bg-color: #E8F0FE;\n",
              "      --fill-color: #1967D2;\n",
              "      --hover-bg-color: #E2EBFA;\n",
              "      --hover-fill-color: #174EA6;\n",
              "      --disabled-fill-color: #AAA;\n",
              "      --disabled-bg-color: #DDD;\n",
              "  }\n",
              "\n",
              "  [theme=dark] .colab-df-quickchart {\n",
              "      --bg-color: #3B4455;\n",
              "      --fill-color: #D2E3FC;\n",
              "      --hover-bg-color: #434B5C;\n",
              "      --hover-fill-color: #FFFFFF;\n",
              "      --disabled-bg-color: #3B4455;\n",
              "      --disabled-fill-color: #666;\n",
              "  }\n",
              "\n",
              "  .colab-df-quickchart {\n",
              "    background-color: var(--bg-color);\n",
              "    border: none;\n",
              "    border-radius: 50%;\n",
              "    cursor: pointer;\n",
              "    display: none;\n",
              "    fill: var(--fill-color);\n",
              "    height: 32px;\n",
              "    padding: 0;\n",
              "    width: 32px;\n",
              "  }\n",
              "\n",
              "  .colab-df-quickchart:hover {\n",
              "    background-color: var(--hover-bg-color);\n",
              "    box-shadow: 0 1px 2px rgba(60, 64, 67, 0.3), 0 1px 3px 1px rgba(60, 64, 67, 0.15);\n",
              "    fill: var(--button-hover-fill-color);\n",
              "  }\n",
              "\n",
              "  .colab-df-quickchart-complete:disabled,\n",
              "  .colab-df-quickchart-complete:disabled:hover {\n",
              "    background-color: var(--disabled-bg-color);\n",
              "    fill: var(--disabled-fill-color);\n",
              "    box-shadow: none;\n",
              "  }\n",
              "\n",
              "  .colab-df-spinner {\n",
              "    border: 2px solid var(--fill-color);\n",
              "    border-color: transparent;\n",
              "    border-bottom-color: var(--fill-color);\n",
              "    animation:\n",
              "      spin 1s steps(1) infinite;\n",
              "  }\n",
              "\n",
              "  @keyframes spin {\n",
              "    0% {\n",
              "      border-color: transparent;\n",
              "      border-bottom-color: var(--fill-color);\n",
              "      border-left-color: var(--fill-color);\n",
              "    }\n",
              "    20% {\n",
              "      border-color: transparent;\n",
              "      border-left-color: var(--fill-color);\n",
              "      border-top-color: var(--fill-color);\n",
              "    }\n",
              "    30% {\n",
              "      border-color: transparent;\n",
              "      border-left-color: var(--fill-color);\n",
              "      border-top-color: var(--fill-color);\n",
              "      border-right-color: var(--fill-color);\n",
              "    }\n",
              "    40% {\n",
              "      border-color: transparent;\n",
              "      border-right-color: var(--fill-color);\n",
              "      border-top-color: var(--fill-color);\n",
              "    }\n",
              "    60% {\n",
              "      border-color: transparent;\n",
              "      border-right-color: var(--fill-color);\n",
              "    }\n",
              "    80% {\n",
              "      border-color: transparent;\n",
              "      border-right-color: var(--fill-color);\n",
              "      border-bottom-color: var(--fill-color);\n",
              "    }\n",
              "    90% {\n",
              "      border-color: transparent;\n",
              "      border-bottom-color: var(--fill-color);\n",
              "    }\n",
              "  }\n",
              "</style>\n",
              "\n",
              "  <script>\n",
              "    async function quickchart(key) {\n",
              "      const quickchartButtonEl =\n",
              "        document.querySelector('#' + key + ' button');\n",
              "      quickchartButtonEl.disabled = true;  // To prevent multiple clicks.\n",
              "      quickchartButtonEl.classList.add('colab-df-spinner');\n",
              "      try {\n",
              "        const charts = await google.colab.kernel.invokeFunction(\n",
              "            'suggestCharts', [key], {});\n",
              "      } catch (error) {\n",
              "        console.error('Error during call to suggestCharts:', error);\n",
              "      }\n",
              "      quickchartButtonEl.classList.remove('colab-df-spinner');\n",
              "      quickchartButtonEl.classList.add('colab-df-quickchart-complete');\n",
              "    }\n",
              "    (() => {\n",
              "      let quickchartButtonEl =\n",
              "        document.querySelector('#df-9d1de993-adec-4cfd-a31c-a0592e7d7ea1 button');\n",
              "      quickchartButtonEl.style.display =\n",
              "        google.colab.kernel.accessAllowed ? 'block' : 'none';\n",
              "    })();\n",
              "  </script>\n",
              "</div>\n",
              "    </div>\n",
              "  </div>\n"
            ]
          },
          "metadata": {},
          "execution_count": 200
        }
      ]
    },
    {
      "cell_type": "code",
      "source": [
        "df =df.drop(['Latitude','Longitude'], axis=1)"
      ],
      "metadata": {
        "id": "qVTZKUDqDG6g"
      },
      "execution_count": 201,
      "outputs": []
    },
    {
      "cell_type": "markdown",
      "source": [
        "X variables - predictor variables - independent variables\n",
        "\n",
        "- MedInc         float64\n",
        "- HouseAge       float64\n",
        "- AveRooms       float64\n",
        "- AveBedrms      float64\n",
        "- Population     float64\n",
        "- AveOccup       float64\n",
        "- MedHouseVal    float64\n",
        "\n",
        "**Y = MedHouseVal = f(x1, x2, x3, x4, x5, x6)**\n",
        "\n",
        "- f for a Linear Regression has the template\n",
        "- y = mx + b\n",
        "- PredictedMedHouseVal = iNTERCEPT + M1X1 + M2X2 + M3X3 + M4X4 + M5X5 + M6X6\n",
        "- PredictedMedHouseVal = Intercept + m1Medinc + m2HouseAge + m3AveRooms + m4AveBedrms + m5Population + m6AveOccup\n",
        "\n",
        "** Intercept - model.intercept_**\n",
        "\n",
        "** Coefficients - model.coef_**"
      ],
      "metadata": {
        "id": "9A1teNqXDeET"
      }
    },
    {
      "cell_type": "code",
      "source": [
        "#model with all x values\n",
        "df.dtypes"
      ],
      "metadata": {
        "colab": {
          "base_uri": "https://localhost:8080/"
        },
        "id": "xPuSF7vYDend",
        "outputId": "e3c021b7-2c0b-40c6-a027-57a31e26906c"
      },
      "execution_count": 202,
      "outputs": [
        {
          "output_type": "execute_result",
          "data": {
            "text/plain": [
              "MedInc         float64\n",
              "HouseAge       float64\n",
              "AveRooms       float64\n",
              "AveBedrms      float64\n",
              "Population     float64\n",
              "AveOccup       float64\n",
              "MedHouseVal    float64\n",
              "dtype: object"
            ]
          },
          "metadata": {},
          "execution_count": 202
        }
      ]
    },
    {
      "cell_type": "code",
      "source": [
        "from sklearn.linear_model import LinearRegression\n",
        "#Logistic regression - category - 0/1, T/F, (R,G,B)\n",
        "#Linear regression - number"
      ],
      "metadata": {
        "id": "uWSakdIvF890"
      },
      "execution_count": 203,
      "outputs": []
    },
    {
      "cell_type": "code",
      "source": [
        "model = LinearRegression()"
      ],
      "metadata": {
        "id": "hslGWXBZGRqW"
      },
      "execution_count": 204,
      "outputs": []
    },
    {
      "cell_type": "code",
      "source": [
        "X = df.drop(['MedHouseVal'], axis=1)"
      ],
      "metadata": {
        "id": "Gg-wVhsjGU34"
      },
      "execution_count": 205,
      "outputs": []
    },
    {
      "cell_type": "code",
      "source": [
        "X.dtypes"
      ],
      "metadata": {
        "colab": {
          "base_uri": "https://localhost:8080/"
        },
        "id": "Bdu_ZU81Gb2I",
        "outputId": "bb06512d-174e-4415-e975-faa9a7fbf7ee"
      },
      "execution_count": 206,
      "outputs": [
        {
          "output_type": "execute_result",
          "data": {
            "text/plain": [
              "MedInc        float64\n",
              "HouseAge      float64\n",
              "AveRooms      float64\n",
              "AveBedrms     float64\n",
              "Population    float64\n",
              "AveOccup      float64\n",
              "dtype: object"
            ]
          },
          "metadata": {},
          "execution_count": 206
        }
      ]
    },
    {
      "cell_type": "code",
      "source": [
        "y = df['MedHouseVal']"
      ],
      "metadata": {
        "id": "iebsT9zKGio6"
      },
      "execution_count": 207,
      "outputs": []
    },
    {
      "cell_type": "markdown",
      "source": [
        "##Split our Data"
      ],
      "metadata": {
        "id": "wQiiuE5gGqP9"
      }
    },
    {
      "cell_type": "markdown",
      "source": [
        "80% train\n",
        "\n",
        "20% test\n",
        "\n",
        "Training the model on 80% of the data.\n",
        "\n",
        "Testing the model on 20% of the data.\n",
        "\n",
        "- X_train: 80% of the rows from X\n",
        "- X_test: 20% of the rows from X\n",
        "\n",
        "- y_trains: 80% of th erows from y\n",
        "- y_teste: 20% of the rows from y"
      ],
      "metadata": {
        "id": "sBw-OcoPHBgP"
      }
    },
    {
      "cell_type": "code",
      "source": [
        "from sklearn.model_selection import train_test_split"
      ],
      "metadata": {
        "id": "2BaUxwhrGnjE"
      },
      "execution_count": 208,
      "outputs": []
    },
    {
      "cell_type": "code",
      "source": [
        "#Slipt the data into training and testing sets\n",
        "X_train, X_test, y_train, y_test = train_test_split(X, y,\n",
        "                                                    test_size=0.2,\n",
        "                                                    random_state=42)"
      ],
      "metadata": {
        "id": "LLUQAIOLHp_S"
      },
      "execution_count": 209,
      "outputs": []
    },
    {
      "cell_type": "code",
      "source": [
        "model.fit(X_train, y_train)"
      ],
      "metadata": {
        "colab": {
          "base_uri": "https://localhost:8080/",
          "height": 74
        },
        "id": "g0AP3d7JIGGT",
        "outputId": "1c093c48-816f-4943-aa0d-97b4d7344046"
      },
      "execution_count": 210,
      "outputs": [
        {
          "output_type": "execute_result",
          "data": {
            "text/plain": [
              "LinearRegression()"
            ],
            "text/html": [
              "<style>#sk-container-id-7 {color: black;background-color: white;}#sk-container-id-7 pre{padding: 0;}#sk-container-id-7 div.sk-toggleable {background-color: white;}#sk-container-id-7 label.sk-toggleable__label {cursor: pointer;display: block;width: 100%;margin-bottom: 0;padding: 0.3em;box-sizing: border-box;text-align: center;}#sk-container-id-7 label.sk-toggleable__label-arrow:before {content: \"▸\";float: left;margin-right: 0.25em;color: #696969;}#sk-container-id-7 label.sk-toggleable__label-arrow:hover:before {color: black;}#sk-container-id-7 div.sk-estimator:hover label.sk-toggleable__label-arrow:before {color: black;}#sk-container-id-7 div.sk-toggleable__content {max-height: 0;max-width: 0;overflow: hidden;text-align: left;background-color: #f0f8ff;}#sk-container-id-7 div.sk-toggleable__content pre {margin: 0.2em;color: black;border-radius: 0.25em;background-color: #f0f8ff;}#sk-container-id-7 input.sk-toggleable__control:checked~div.sk-toggleable__content {max-height: 200px;max-width: 100%;overflow: auto;}#sk-container-id-7 input.sk-toggleable__control:checked~label.sk-toggleable__label-arrow:before {content: \"▾\";}#sk-container-id-7 div.sk-estimator input.sk-toggleable__control:checked~label.sk-toggleable__label {background-color: #d4ebff;}#sk-container-id-7 div.sk-label input.sk-toggleable__control:checked~label.sk-toggleable__label {background-color: #d4ebff;}#sk-container-id-7 input.sk-hidden--visually {border: 0;clip: rect(1px 1px 1px 1px);clip: rect(1px, 1px, 1px, 1px);height: 1px;margin: -1px;overflow: hidden;padding: 0;position: absolute;width: 1px;}#sk-container-id-7 div.sk-estimator {font-family: monospace;background-color: #f0f8ff;border: 1px dotted black;border-radius: 0.25em;box-sizing: border-box;margin-bottom: 0.5em;}#sk-container-id-7 div.sk-estimator:hover {background-color: #d4ebff;}#sk-container-id-7 div.sk-parallel-item::after {content: \"\";width: 100%;border-bottom: 1px solid gray;flex-grow: 1;}#sk-container-id-7 div.sk-label:hover label.sk-toggleable__label {background-color: #d4ebff;}#sk-container-id-7 div.sk-serial::before {content: \"\";position: absolute;border-left: 1px solid gray;box-sizing: border-box;top: 0;bottom: 0;left: 50%;z-index: 0;}#sk-container-id-7 div.sk-serial {display: flex;flex-direction: column;align-items: center;background-color: white;padding-right: 0.2em;padding-left: 0.2em;position: relative;}#sk-container-id-7 div.sk-item {position: relative;z-index: 1;}#sk-container-id-7 div.sk-parallel {display: flex;align-items: stretch;justify-content: center;background-color: white;position: relative;}#sk-container-id-7 div.sk-item::before, #sk-container-id-7 div.sk-parallel-item::before {content: \"\";position: absolute;border-left: 1px solid gray;box-sizing: border-box;top: 0;bottom: 0;left: 50%;z-index: -1;}#sk-container-id-7 div.sk-parallel-item {display: flex;flex-direction: column;z-index: 1;position: relative;background-color: white;}#sk-container-id-7 div.sk-parallel-item:first-child::after {align-self: flex-end;width: 50%;}#sk-container-id-7 div.sk-parallel-item:last-child::after {align-self: flex-start;width: 50%;}#sk-container-id-7 div.sk-parallel-item:only-child::after {width: 0;}#sk-container-id-7 div.sk-dashed-wrapped {border: 1px dashed gray;margin: 0 0.4em 0.5em 0.4em;box-sizing: border-box;padding-bottom: 0.4em;background-color: white;}#sk-container-id-7 div.sk-label label {font-family: monospace;font-weight: bold;display: inline-block;line-height: 1.2em;}#sk-container-id-7 div.sk-label-container {text-align: center;}#sk-container-id-7 div.sk-container {/* jupyter's `normalize.less` sets `[hidden] { display: none; }` but bootstrap.min.css set `[hidden] { display: none !important; }` so we also need the `!important` here to be able to override the default hidden behavior on the sphinx rendered scikit-learn.org. See: https://github.com/scikit-learn/scikit-learn/issues/21755 */display: inline-block !important;position: relative;}#sk-container-id-7 div.sk-text-repr-fallback {display: none;}</style><div id=\"sk-container-id-7\" class=\"sk-top-container\"><div class=\"sk-text-repr-fallback\"><pre>LinearRegression()</pre><b>In a Jupyter environment, please rerun this cell to show the HTML representation or trust the notebook. <br />On GitHub, the HTML representation is unable to render, please try loading this page with nbviewer.org.</b></div><div class=\"sk-container\" hidden><div class=\"sk-item\"><div class=\"sk-estimator sk-toggleable\"><input class=\"sk-toggleable__control sk-hidden--visually\" id=\"sk-estimator-id-7\" type=\"checkbox\" checked><label for=\"sk-estimator-id-7\" class=\"sk-toggleable__label sk-toggleable__label-arrow\">LinearRegression</label><div class=\"sk-toggleable__content\"><pre>LinearRegression()</pre></div></div></div></div></div>"
            ]
          },
          "metadata": {},
          "execution_count": 210
        }
      ]
    },
    {
      "cell_type": "code",
      "source": [
        "model.intercept_"
      ],
      "metadata": {
        "colab": {
          "base_uri": "https://localhost:8080/"
        },
        "id": "gNIUHv3vIe_t",
        "outputId": "d3c39d60-a8e1-4286-9f52-3eba4fb6dc94"
      },
      "execution_count": 211,
      "outputs": [
        {
          "output_type": "execute_result",
          "data": {
            "text/plain": [
              "-0.5528727644615126"
            ]
          },
          "metadata": {},
          "execution_count": 211
        }
      ]
    },
    {
      "cell_type": "code",
      "source": [
        "model.coef_"
      ],
      "metadata": {
        "colab": {
          "base_uri": "https://localhost:8080/"
        },
        "id": "-NpjGxNSIhWI",
        "outputId": "bf220d4a-aece-4f93-bd51-121895729444"
      },
      "execution_count": 212,
      "outputs": [
        {
          "output_type": "execute_result",
          "data": {
            "text/plain": [
              "array([ 5.46160779e-01,  1.67879091e-02, -2.23919944e-01,  1.11549261e+00,\n",
              "        2.31671974e-05, -4.61823135e-03])"
            ]
          },
          "metadata": {},
          "execution_count": 212
        }
      ]
    },
    {
      "cell_type": "markdown",
      "source": [
        "The nearest the number i to zero, less important it is to the model, so we can remove it."
      ],
      "metadata": {
        "id": "F30CXdfYUT9_"
      }
    },
    {
      "cell_type": "markdown",
      "source": [
        "- PredictedMedHouseVal = Intercept + m1Medinc + m2HouseAge + m3AveRooms + m4AveBedrms + m5Population + m6AveOccup\n",
        "\n",
        "- PredictedMedHouseVal = -0.5528727644615126 + 5.46160779e-01 + 1.67879091e-02 + -2.23919944e-01 + 1.11549261e+00 + 2.31671974e-05 + -4.61823135e-03\n",
        "\n",
        "---\n",
        "\n"
      ],
      "metadata": {
        "id": "Kokc4uJfIpmc"
      }
    },
    {
      "cell_type": "code",
      "source": [
        "X_train.shape"
      ],
      "metadata": {
        "colab": {
          "base_uri": "https://localhost:8080/"
        },
        "id": "AmZOsBNrJxhd",
        "outputId": "5131c88d-1006-4246-96da-853cc13d4308"
      },
      "execution_count": 213,
      "outputs": [
        {
          "output_type": "execute_result",
          "data": {
            "text/plain": [
              "(16512, 6)"
            ]
          },
          "metadata": {},
          "execution_count": 213
        }
      ]
    },
    {
      "cell_type": "code",
      "source": [
        "X_test.shape"
      ],
      "metadata": {
        "colab": {
          "base_uri": "https://localhost:8080/"
        },
        "id": "eVf0DavxJ0M8",
        "outputId": "4afb86a5-d41e-4f0f-d3f9-530ec693afaa"
      },
      "execution_count": 214,
      "outputs": [
        {
          "output_type": "execute_result",
          "data": {
            "text/plain": [
              "(4128, 6)"
            ]
          },
          "metadata": {},
          "execution_count": 214
        }
      ]
    },
    {
      "cell_type": "code",
      "source": [
        "y_pred = model.predict(X_test)"
      ],
      "metadata": {
        "id": "E32N3x8JIl2Z"
      },
      "execution_count": 215,
      "outputs": []
    },
    {
      "cell_type": "code",
      "source": [
        "y_pred"
      ],
      "metadata": {
        "colab": {
          "base_uri": "https://localhost:8080/"
        },
        "id": "bnYyBN2SJfyM",
        "outputId": "4c4f8157-6a0b-4749-9aac-b8b7f5c7148e"
      },
      "execution_count": 216,
      "outputs": [
        {
          "output_type": "execute_result",
          "data": {
            "text/plain": [
              "array([1.00100537, 1.56005635, 2.67713262, ..., 4.36752832, 1.50136763,\n",
              "       1.95368721])"
            ]
          },
          "metadata": {},
          "execution_count": 216
        }
      ]
    },
    {
      "cell_type": "code",
      "source": [
        "# actual - y_predict\n",
        "#pred - y_pred - equation of the line\n",
        "#residuals: actual - pred\n",
        "\n",
        "residuals = y_test - y_pred"
      ],
      "metadata": {
        "id": "V8lFFG0hJ4uV"
      },
      "execution_count": 217,
      "outputs": []
    },
    {
      "cell_type": "code",
      "source": [
        "import matplotlib.pyplot as plt\n",
        "plt.hist(residuals)"
      ],
      "metadata": {
        "colab": {
          "base_uri": "https://localhost:8080/",
          "height": 538
        },
        "id": "oLdNp8mlKJD0",
        "outputId": "2d03edaf-52e0-40df-a704-e9eaae89f08b"
      },
      "execution_count": 218,
      "outputs": [
        {
          "output_type": "execute_result",
          "data": {
            "text/plain": [
              "(array([1.000e+00, 0.000e+00, 0.000e+00, 1.000e+00, 1.300e+01, 1.240e+02,\n",
              "        2.974e+03, 8.520e+02, 1.490e+02, 1.400e+01]),\n",
              " array([-9.2329184 , -7.86365287, -6.49438734, -5.12512181, -3.75585628,\n",
              "        -2.38659075, -1.01732522,  0.35194031,  1.72120584,  3.09047136,\n",
              "         4.45973689]),\n",
              " <BarContainer object of 10 artists>)"
            ]
          },
          "metadata": {},
          "execution_count": 218
        },
        {
          "output_type": "display_data",
          "data": {
            "text/plain": [
              "<Figure size 640x480 with 1 Axes>"
            ],
            "image/png": "[encoded data removed]"
          },
          "metadata": {}
        }
      ]
    },
    {
      "cell_type": "markdown",
      "source": [
        "Residual analysis:\n",
        "\n",
        "Distribution: Normal\n",
        "Mode: -1 to 0\n"
      ],
      "metadata": {
        "id": "cEo4S99CKZqZ"
      }
    },
    {
      "cell_type": "code",
      "source": [
        "residuals.mean()"
      ],
      "metadata": {
        "colab": {
          "base_uri": "https://localhost:8080/"
        },
        "id": "QNH345FIKqJ2",
        "outputId": "519add89-578a-40f5-e787-6b3e55b4e4bb"
      },
      "execution_count": 219,
      "outputs": [
        {
          "output_type": "execute_result",
          "data": {
            "text/plain": [
              "0.0005506780243644342"
            ]
          },
          "metadata": {},
          "execution_count": 219
        }
      ]
    },
    {
      "cell_type": "code",
      "source": [
        "residuals.mode()"
      ],
      "metadata": {
        "colab": {
          "base_uri": "https://localhost:8080/"
        },
        "id": "QJWJbWHdKtWd",
        "outputId": "5fe1941f-74b1-4e66-c54e-dd42cd91504b"
      },
      "execution_count": 220,
      "outputs": [
        {
          "output_type": "execute_result",
          "data": {
            "text/plain": [
              "0      -9.232918\n",
              "1      -4.159108\n",
              "2      -3.583130\n",
              "3      -3.126984\n",
              "4      -2.986501\n",
              "          ...   \n",
              "4123    3.571417\n",
              "4124    3.573198\n",
              "4125    3.846377\n",
              "4126    4.169522\n",
              "4127    4.459737\n",
              "Name: MedHouseVal, Length: 4128, dtype: float64"
            ]
          },
          "metadata": {},
          "execution_count": 220
        }
      ]
    },
    {
      "cell_type": "code",
      "source": [
        "residuals.median()"
      ],
      "metadata": {
        "colab": {
          "base_uri": "https://localhost:8080/"
        },
        "id": "qKF-obp6K0ez",
        "outputId": "7ea73bd9-b2cb-4eef-d342-7be8bfb88ca7"
      },
      "execution_count": 221,
      "outputs": [
        {
          "output_type": "execute_result",
          "data": {
            "text/plain": [
              "-0.14378792905649418"
            ]
          },
          "metadata": {},
          "execution_count": 221
        }
      ]
    },
    {
      "cell_type": "code",
      "source": [
        "residuals.min()"
      ],
      "metadata": {
        "colab": {
          "base_uri": "https://localhost:8080/"
        },
        "id": "GPsS8ZQ9K7Ur",
        "outputId": "c0803a86-17b1-48cb-b686-79a8ff63029b"
      },
      "execution_count": 222,
      "outputs": [
        {
          "output_type": "execute_result",
          "data": {
            "text/plain": [
              "-9.232918396591842"
            ]
          },
          "metadata": {},
          "execution_count": 222
        }
      ]
    },
    {
      "cell_type": "code",
      "source": [
        "residuals.max()"
      ],
      "metadata": {
        "colab": {
          "base_uri": "https://localhost:8080/"
        },
        "id": "MFpClsBDLDWq",
        "outputId": "25f4a395-eaef-4c0b-9f48-ea0ed9d26af1"
      },
      "execution_count": 223,
      "outputs": [
        {
          "output_type": "execute_result",
          "data": {
            "text/plain": [
              "4.459736893862398"
            ]
          },
          "metadata": {},
          "execution_count": 223
        }
      ]
    },
    {
      "cell_type": "code",
      "source": [
        "residuals.std()"
      ],
      "metadata": {
        "colab": {
          "base_uri": "https://localhost:8080/"
        },
        "id": "k9WNYcctLZSj",
        "outputId": "a97a7010-a787-44eb-af13-ed89b06f9896"
      },
      "execution_count": 224,
      "outputs": [
        {
          "output_type": "execute_result",
          "data": {
            "text/plain": [
              "0.8014627467582752"
            ]
          },
          "metadata": {},
          "execution_count": 224
        }
      ]
    },
    {
      "cell_type": "markdown",
      "source": [
        "## Residual Analysis Broken down"
      ],
      "metadata": {
        "id": "gPwejAOiLHFG"
      }
    },
    {
      "cell_type": "markdown",
      "source": [
        "- Distribution: Skinny Normal Distribution. Sd are close to each other.\n",
        "- Mode: -1 to 0\n",
        "\n",
        "## Minimum: -9.\n",
        "\n",
        "- For specif row of values, the model is predicting too high\n",
        "- the formula for residuals is actual - pred. When you have a negative residual value, your predicted values are much higher than the actual.\n",
        "- The model is overestimating the value of the house.\n",
        "\n",
        "##Maximum: 4.\n",
        "\n",
        "- For specif row of values, the model is predicting too low\n",
        "- The formula for residuals is actual - pred. When you have a positive residual value, your predicted values are much lower than the actual.\n",
        "- The model is underestimating the value of the house.\n",
        "\n",
        "##Mean: 0.\n",
        "\n",
        "##Mode: -1\n",
        "\n",
        "- For specif row of values, the model is predicting too high.\n",
        "- The formula for residuals is actual - pred. When you have a negative residual value, your predicted values are much higher than the actual.\n",
        "- The model is overestimating the value of the house.\n",
        "- However, since th emode is -1, the value is actually minimal. So model can potentialli be accepted given the scale of the house prices."
      ],
      "metadata": {
        "id": "QQuKXmTTLOTv"
      }
    },
    {
      "cell_type": "markdown",
      "source": [
        "## R2 and MSE"
      ],
      "metadata": {
        "id": "68X7AaDoNzKK"
      }
    },
    {
      "cell_type": "code",
      "source": [
        "from sklearn.metrics import mean_squared_error, r2_score"
      ],
      "metadata": {
        "id": "r39i7oGrN2_o"
      },
      "execution_count": 225,
      "outputs": []
    },
    {
      "cell_type": "code",
      "source": [
        "mse = mean_squared_error(y_test, y_pred)\n",
        "r2 = r2_score(y_test, y_pred)\n",
        "print(mse)\n",
        "print(r2)"
      ],
      "metadata": {
        "colab": {
          "base_uri": "https://localhost:8080/"
        },
        "id": "KAoHrgn1N_gQ",
        "outputId": "aea4106a-b38e-4a81-9353-3422f44fe002"
      },
      "execution_count": 226,
      "outputs": [
        {
          "output_type": "stream",
          "name": "stdout",
          "text": [
            "0.642187231453487\n",
            "0.5099337366296416\n"
          ]
        }
      ]
    },
    {
      "cell_type": "markdown",
      "source": [
        "## R2 score - captures the variance in the model"
      ],
      "metadata": {
        "id": "o3DG54mOOUdY"
      }
    },
    {
      "cell_type": "markdown",
      "source": [
        "- It is between a scale of 0 to 1.\n",
        "- The closer it is to 1, the better the model.\n",
        "- The closer it is to 1, the more variance is captured.\n",
        "\n",
        "- For each point of unique values, the model is generation a different result.\n",
        "- Rhe same equation of the line, is giving different results, which is something that is accepted.\n",
        "- Rules of thumb - You want to be as general as possible, but also as specif as possible.\n",
        "- General part - equation of a line\n",
        "- Specific part - each solution is different\n",
        "- R2 is a measure of how well the model is generic and specific."
      ],
      "metadata": {
        "id": "9RIFPvYnOZPk"
      }
    },
    {
      "cell_type": "code",
      "source": [
        "print(r2)"
      ],
      "metadata": {
        "colab": {
          "base_uri": "https://localhost:8080/"
        },
        "id": "0K-qMkO9PMvj",
        "outputId": "80056611-174b-4f69-9819-3b8cba29cb5d"
      },
      "execution_count": 227,
      "outputs": [
        {
          "output_type": "stream",
          "name": "stdout",
          "text": [
            "0.5099337366296416\n"
          ]
        }
      ]
    },
    {
      "cell_type": "markdown",
      "source": [
        "-Usually the scale isthe scale is 0 - 0.5 bad\n",
        "- 0.5 to 0.8 is decent and can be improved\n",
        "- 0.8 - 1 is a good model\n",
        "\n",
        "For our model:\n",
        "\n",
        "Decent - BASELINE - The worst a model can do. Lowest r2 score is 0.51"
      ],
      "metadata": {
        "id": "GA8-lwZxPPPk"
      }
    },
    {
      "cell_type": "code",
      "source": [],
      "metadata": {
        "id": "QIRvYpaYONNf"
      },
      "execution_count": 227,
      "outputs": []
    },
    {
      "cell_type": "code",
      "source": [
        "#find the absolute error and squares it\n",
        "print(mse)"
      ],
      "metadata": {
        "colab": {
          "base_uri": "https://localhost:8080/"
        },
        "id": "3pQOsqCwQLG0",
        "outputId": "26100d89-9e5f-4ed2-e1fc-6934ca2a01fe"
      },
      "execution_count": 228,
      "outputs": [
        {
          "output_type": "stream",
          "name": "stdout",
          "text": [
            "0.642187231453487\n"
          ]
        }
      ]
    },
    {
      "cell_type": "markdown",
      "source": [
        "\n",
        "* Generally my model has an error of +-0.64.\n",
        "* The predicted value is usually 0.64 lower or 0.64 higher than the actual value of the house.\n",
        "* Ideally, you want MSE to be 0."
      ],
      "metadata": {
        "id": "rGDPzxy7QRQw"
      }
    },
    {
      "cell_type": "markdown",
      "source": [
        "## Overall R2, MSE and Residuals\n",
        "\n",
        "* R2 - 0.51\n",
        "* MSE - 0.64\n",
        "* Residual - -1.\n",
        "\n",
        "This is a very average model, the residuals and MSE are acceptable. however, the R2 is very small and does not capture as much variance in the model. Next steps we will remove outliers, standardize the data, remove variables, to improve the model performanc."
      ],
      "metadata": {
        "id": "BkuMoKS8Qvpt"
      }
    },
    {
      "cell_type": "markdown",
      "source": [
        "## Model Improvement - Outliers removal\n",
        "\n",
        "- Boxplot and remove the outliers and then run the model again. You will now have model 2, which again has then new equation of a line.\n",
        "- Run the same steps, then you compare metrics which are going to be your residulas, R2 and MSE to the baseline.\n",
        "- If the model does worse keep the outliers.\n",
        "- If the model does better, move on to improve it more."
      ],
      "metadata": {
        "id": "rhAM3ILORifi"
      }
    },
    {
      "cell_type": "markdown",
      "source": [
        "#### Model Improvement - Standardize\n",
        "\n",
        "* All variables on the same scale. The boxplots look a lot more even.\n",
        "* When your variables are on the same scale, it means that each variable is given the same amount of importance.\n",
        "* List item\n",
        "* Run the model, compare metrics and make a decision.\n"
      ],
      "metadata": {
        "id": "H0FHcSgoSHcl"
      }
    },
    {
      "cell_type": "markdown",
      "source": [
        "## Model Improvement - removing/Adding variables\n",
        "\n",
        "##Removal/Keeping of variables based on p-values\n",
        "- From your model results you have the coefficients. these coefficients have a p-value. This p-value is tesiting for the level of significance.\n",
        "- The p-value is a threshold. If it's lower/ upper, you would either keep or delete the variable.\n",
        "- Ranks the importance of the variable\n",
        "\n",
        "##Removal/Keeping of variables based on the coefficients\n",
        "- From your model results you have the coefficients. These coefficients have a p-value. This weight is tesiting for the level of significance.\n",
        "\n",
        "\n",
        "\n"
      ],
      "metadata": {
        "id": "l1SelZ9JRplI"
      }
    },
    {
      "cell_type": "markdown",
      "source": [],
      "metadata": {
        "id": "rSSO0dWEUvec"
      }
    },
    {
      "cell_type": "code",
      "source": [
        "#p-values\n",
        "import statsmodels.api as sm\n",
        "import numpy as np\n",
        "\n",
        "#Prepare your predictor variables (x) AND TARGET VARIABLE(Y)\n",
        "\n",
        "#Add a constant term to the predictor variables\n",
        "X =  sm.add_constant(X_train)\n",
        "\n",
        "\n",
        "\n",
        "#Fit the regression model\n",
        "model = sm.OLS(y_train, X_train)\n",
        "result = model.fit()\n",
        "\n",
        "#Retrieve the p-values\n",
        "p_value = result.pvalues\n",
        "\n",
        "print(p_value)"
      ],
      "metadata": {
        "colab": {
          "base_uri": "https://localhost:8080/"
        },
        "id": "lrWO8WB7UweY",
        "outputId": "fe439fd5-e745-47e4-93f0-3bf9bdfeb96a"
      },
      "execution_count": 229,
      "outputs": [
        {
          "output_type": "stream",
          "name": "stdout",
          "text": [
            "MedInc         0.000000e+00\n",
            "HouseAge      7.378162e-165\n",
            "AveRooms      2.108007e-182\n",
            "AveBedrms     7.501425e-153\n",
            "Population     3.166271e-04\n",
            "AveOccup       9.724166e-18\n",
            "dtype: float64\n"
          ]
        }
      ]
    },
    {
      "cell_type": "markdown",
      "source": [
        "##MSE - Mean squared error"
      ],
      "metadata": {
        "id": "6Pba9ThkQIwh"
      }
    },
    {
      "cell_type": "markdown",
      "source": [
        "If the p -value is less than 0.005, then we keep the variable. If it is greater than 0.005 we remove it."
      ],
      "metadata": {
        "id": "DegnsOf2VS0y"
      }
    },
    {
      "cell_type": "markdown",
      "source": [
        "##Model 2"
      ],
      "metadata": {
        "id": "3TzT97dQaYcH"
      }
    },
    {
      "cell_type": "code",
      "source": [
        "# Fetch the California Housing dataset\n",
        "california_housing = fetch_california_housing()\n",
        "\n",
        "# Create a DataFrame from the dataset\n",
        "df = pd.DataFrame(data=california_housing.data, columns=california_housing.feature_names)\n",
        "\n",
        "# Add the target variable to the DataFrame\n",
        "df['MedHouseVal'] = california_housing.target\n",
        "\n",
        "# Display the DataFrame\n",
        "df.head(10)"
      ],
      "metadata": {
        "colab": {
          "base_uri": "https://localhost:8080/",
          "height": 359
        },
        "id": "znvS_kANaYHa",
        "outputId": "e9a6bc96-7db3-475c-b11e-608938749fca"
      },
      "execution_count": 230,
      "outputs": [
        {
          "output_type": "execute_result",
          "data": {
            "text/plain": [
              "   MedInc  HouseAge  AveRooms  AveBedrms  Population  AveOccup  Latitude  \\\n",
              "0  8.3252      41.0  6.984127   1.023810       322.0  2.555556     37.88   \n",
              "1  8.3014      21.0  6.238137   0.971880      2401.0  2.109842     37.86   \n",
              "2  7.2574      52.0  8.288136   1.073446       496.0  2.802260     37.85   \n",
              "3  5.6431      52.0  5.817352   1.073059       558.0  2.547945     37.85   \n",
              "4  3.8462      52.0  6.281853   1.081081       565.0  2.181467     37.85   \n",
              "5  4.0368      52.0  4.761658   1.103627       413.0  2.139896     37.85   \n",
              "6  3.6591      52.0  4.931907   0.951362      1094.0  2.128405     37.84   \n",
              "7  3.1200      52.0  4.797527   1.061824      1157.0  1.788253     37.84   \n",
              "8  2.0804      42.0  4.294118   1.117647      1206.0  2.026891     37.84   \n",
              "9  3.6912      52.0  4.970588   0.990196      1551.0  2.172269     37.84   \n",
              "\n",
              "   Longitude  MedHouseVal  \n",
              "0    -122.23        4.526  \n",
              "1    -122.22        3.585  \n",
              "2    -122.24        3.521  \n",
              "3    -122.25        3.413  \n",
              "4    -122.25        3.422  \n",
              "5    -122.25        2.697  \n",
              "6    -122.25        2.992  \n",
              "7    -122.25        2.414  \n",
              "8    -122.26        2.267  \n",
              "9    -122.25        2.611  "
            ],
            "text/html": [
              "\n",
              "  <div id=\"df-424bc7c8-91be-4183-9c80-a934ee5d747a\" class=\"colab-df-container\">\n",
              "    <div>\n",
              "<style scoped>\n",
              "    .dataframe tbody tr th:only-of-type {\n",
              "        vertical-align: middle;\n",
              "    }\n",
              "\n",
              "    .dataframe tbody tr th {\n",
              "        vertical-align: top;\n",
              "    }\n",
              "\n",
              "    .dataframe thead th {\n",
              "        text-align: right;\n",
              "    }\n",
              "</style>\n",
              "<table border=\"1\" class=\"dataframe\">\n",
              "  <thead>\n",
              "    <tr style=\"text-align: right;\">\n",
              "      <th></th>\n",
              "      <th>MedInc</th>\n",
              "      <th>HouseAge</th>\n",
              "      <th>AveRooms</th>\n",
              "      <th>AveBedrms</th>\n",
              "      <th>Population</th>\n",
              "      <th>AveOccup</th>\n",
              "      <th>Latitude</th>\n",
              "      <th>Longitude</th>\n",
              "      <th>MedHouseVal</th>\n",
              "    </tr>\n",
              "  </thead>\n",
              "  <tbody>\n",
              "    <tr>\n",
              "      <th>0</th>\n",
              "      <td>8.3252</td>\n",
              "      <td>41.0</td>\n",
              "      <td>6.984127</td>\n",
              "      <td>1.023810</td>\n",
              "      <td>322.0</td>\n",
              "      <td>2.555556</td>\n",
              "      <td>37.88</td>\n",
              "      <td>-122.23</td>\n",
              "      <td>4.526</td>\n",
              "    </tr>\n",
              "    <tr>\n",
              "      <th>1</th>\n",
              "      <td>8.3014</td>\n",
              "      <td>21.0</td>\n",
              "      <td>6.238137</td>\n",
              "      <td>0.971880</td>\n",
              "      <td>2401.0</td>\n",
              "      <td>2.109842</td>\n",
              "      <td>37.86</td>\n",
              "      <td>-122.22</td>\n",
              "      <td>3.585</td>\n",
              "    </tr>\n",
              "    <tr>\n",
              "      <th>2</th>\n",
              "      <td>7.2574</td>\n",
              "      <td>52.0</td>\n",
              "      <td>8.288136</td>\n",
              "      <td>1.073446</td>\n",
              "      <td>496.0</td>\n",
              "      <td>2.802260</td>\n",
              "      <td>37.85</td>\n",
              "      <td>-122.24</td>\n",
              "      <td>3.521</td>\n",
              "    </tr>\n",
              "    <tr>\n",
              "      <th>3</th>\n",
              "      <td>5.6431</td>\n",
              "      <td>52.0</td>\n",
              "      <td>5.817352</td>\n",
              "      <td>1.073059</td>\n",
              "      <td>558.0</td>\n",
              "      <td>2.547945</td>\n",
              "      <td>37.85</td>\n",
              "      <td>-122.25</td>\n",
              "      <td>3.413</td>\n",
              "    </tr>\n",
              "    <tr>\n",
              "      <th>4</th>\n",
              "      <td>3.8462</td>\n",
              "      <td>52.0</td>\n",
              "      <td>6.281853</td>\n",
              "      <td>1.081081</td>\n",
              "      <td>565.0</td>\n",
              "      <td>2.181467</td>\n",
              "      <td>37.85</td>\n",
              "      <td>-122.25</td>\n",
              "      <td>3.422</td>\n",
              "    </tr>\n",
              "    <tr>\n",
              "      <th>5</th>\n",
              "      <td>4.0368</td>\n",
              "      <td>52.0</td>\n",
              "      <td>4.761658</td>\n",
              "      <td>1.103627</td>\n",
              "      <td>413.0</td>\n",
              "      <td>2.139896</td>\n",
              "      <td>37.85</td>\n",
              "      <td>-122.25</td>\n",
              "      <td>2.697</td>\n",
              "    </tr>\n",
              "    <tr>\n",
              "      <th>6</th>\n",
              "      <td>3.6591</td>\n",
              "      <td>52.0</td>\n",
              "      <td>4.931907</td>\n",
              "      <td>0.951362</td>\n",
              "      <td>1094.0</td>\n",
              "      <td>2.128405</td>\n",
              "      <td>37.84</td>\n",
              "      <td>-122.25</td>\n",
              "      <td>2.992</td>\n",
              "    </tr>\n",
              "    <tr>\n",
              "      <th>7</th>\n",
              "      <td>3.1200</td>\n",
              "      <td>52.0</td>\n",
              "      <td>4.797527</td>\n",
              "      <td>1.061824</td>\n",
              "      <td>1157.0</td>\n",
              "      <td>1.788253</td>\n",
              "      <td>37.84</td>\n",
              "      <td>-122.25</td>\n",
              "      <td>2.414</td>\n",
              "    </tr>\n",
              "    <tr>\n",
              "      <th>8</th>\n",
              "      <td>2.0804</td>\n",
              "      <td>42.0</td>\n",
              "      <td>4.294118</td>\n",
              "      <td>1.117647</td>\n",
              "      <td>1206.0</td>\n",
              "      <td>2.026891</td>\n",
              "      <td>37.84</td>\n",
              "      <td>-122.26</td>\n",
              "      <td>2.267</td>\n",
              "    </tr>\n",
              "    <tr>\n",
              "      <th>9</th>\n",
              "      <td>3.6912</td>\n",
              "      <td>52.0</td>\n",
              "      <td>4.970588</td>\n",
              "      <td>0.990196</td>\n",
              "      <td>1551.0</td>\n",
              "      <td>2.172269</td>\n",
              "      <td>37.84</td>\n",
              "      <td>-122.25</td>\n",
              "      <td>2.611</td>\n",
              "    </tr>\n",
              "  </tbody>\n",
              "</table>\n",
              "</div>\n",
              "    <div class=\"colab-df-buttons\">\n",
              "\n",
              "  <div class=\"colab-df-container\">\n",
              "    <button class=\"colab-df-convert\" onclick=\"convertToInteractive('df-424bc7c8-91be-4183-9c80-a934ee5d747a')\"\n",
              "            title=\"Convert this dataframe to an interactive table.\"\n",
              "            style=\"display:none;\">\n",
              "\n",
              "  <svg xmlns=\"http://www.w3.org/2000/svg\" height=\"24px\" viewBox=\"0 -960 960 960\">\n",
              "    <path d=\"M120-120v-720h720v720H120Zm60-500h600v-160H180v160Zm220 220h160v-160H400v160Zm0 220h160v-160H400v160ZM180-400h160v-160H180v160Zm440 0h160v-160H620v160ZM180-180h160v-160H180v160Zm440 0h160v-160H620v160Z\"/>\n",
              "  </svg>\n",
              "    </button>\n",
              "\n",
              "  <style>\n",
              "    .colab-df-container {\n",
              "      display:flex;\n",
              "      gap: 12px;\n",
              "    }\n",
              "\n",
              "    .colab-df-convert {\n",
              "      background-color: #E8F0FE;\n",
              "      border: none;\n",
              "      border-radius: 50%;\n",
              "      cursor: pointer;\n",
              "      display: none;\n",
              "      fill: #1967D2;\n",
              "      height: 32px;\n",
              "      padding: 0 0 0 0;\n",
              "      width: 32px;\n",
              "    }\n",
              "\n",
              "    .colab-df-convert:hover {\n",
              "      background-color: #E2EBFA;\n",
              "      box-shadow: 0px 1px 2px rgba(60, 64, 67, 0.3), 0px 1px 3px 1px rgba(60, 64, 67, 0.15);\n",
              "      fill: #174EA6;\n",
              "    }\n",
              "\n",
              "    .colab-df-buttons div {\n",
              "      margin-bottom: 4px;\n",
              "    }\n",
              "\n",
              "    [theme=dark] .colab-df-convert {\n",
              "      background-color: #3B4455;\n",
              "      fill: #D2E3FC;\n",
              "    }\n",
              "\n",
              "    [theme=dark] .colab-df-convert:hover {\n",
              "      background-color: #434B5C;\n",
              "      box-shadow: 0px 1px 3px 1px rgba(0, 0, 0, 0.15);\n",
              "      filter: drop-shadow(0px 1px 2px rgba(0, 0, 0, 0.3));\n",
              "      fill: #FFFFFF;\n",
              "    }\n",
              "  </style>\n",
              "\n",
              "    <script>\n",
              "      const buttonEl =\n",
              "        document.querySelector('#df-424bc7c8-91be-4183-9c80-a934ee5d747a button.colab-df-convert');\n",
              "      buttonEl.style.display =\n",
              "        google.colab.kernel.accessAllowed ? 'block' : 'none';\n",
              "\n",
              "      async function convertToInteractive(key) {\n",
              "        const element = document.querySelector('#df-424bc7c8-91be-4183-9c80-a934ee5d747a');\n",
              "        const dataTable =\n",
              "          await google.colab.kernel.invokeFunction('convertToInteractive',\n",
              "                                                    [key], {});\n",
              "        if (!dataTable) return;\n",
              "\n",
              "        const docLinkHtml = 'Like what you see? Visit the ' +\n",
              "          '<a target=\"_blank\" href=https://colab.research.google.com/notebooks/data_table.ipynb>data table notebook</a>'\n",
              "          + ' to learn more about interactive tables.';\n",
              "        element.innerHTML = '';\n",
              "        dataTable['output_type'] = 'display_data';\n",
              "        await google.colab.output.renderOutput(dataTable, element);\n",
              "        const docLink = document.createElement('div');\n",
              "        docLink.innerHTML = docLinkHtml;\n",
              "        element.appendChild(docLink);\n",
              "      }\n",
              "    </script>\n",
              "  </div>\n",
              "\n",
              "\n",
              "<div id=\"df-4cc56b6e-4cd4-4d14-941c-e5f74b033617\">\n",
              "  <button class=\"colab-df-quickchart\" onclick=\"quickchart('df-4cc56b6e-4cd4-4d14-941c-e5f74b033617')\"\n",
              "            title=\"Suggest charts.\"\n",
              "            style=\"display:none;\">\n",
              "\n",
              "<svg xmlns=\"http://www.w3.org/2000/svg\" height=\"24px\"viewBox=\"0 0 24 24\"\n",
              "     width=\"24px\">\n",
              "    <g>\n",
              "        <path d=\"M19 3H5c-1.1 0-2 .9-2 2v14c0 1.1.9 2 2 2h14c1.1 0 2-.9 2-2V5c0-1.1-.9-2-2-2zM9 17H7v-7h2v7zm4 0h-2V7h2v10zm4 0h-2v-4h2v4z\"/>\n",
              "    </g>\n",
              "</svg>\n",
              "  </button>\n",
              "\n",
              "<style>\n",
              "  .colab-df-quickchart {\n",
              "      --bg-color: #E8F0FE;\n",
              "      --fill-color: #1967D2;\n",
              "      --hover-bg-color: #E2EBFA;\n",
              "      --hover-fill-color: #174EA6;\n",
              "      --disabled-fill-color: #AAA;\n",
              "      --disabled-bg-color: #DDD;\n",
              "  }\n",
              "\n",
              "  [theme=dark] .colab-df-quickchart {\n",
              "      --bg-color: #3B4455;\n",
              "      --fill-color: #D2E3FC;\n",
              "      --hover-bg-color: #434B5C;\n",
              "      --hover-fill-color: #FFFFFF;\n",
              "      --disabled-bg-color: #3B4455;\n",
              "      --disabled-fill-color: #666;\n",
              "  }\n",
              "\n",
              "  .colab-df-quickchart {\n",
              "    background-color: var(--bg-color);\n",
              "    border: none;\n",
              "    border-radius: 50%;\n",
              "    cursor: pointer;\n",
              "    display: none;\n",
              "    fill: var(--fill-color);\n",
              "    height: 32px;\n",
              "    padding: 0;\n",
              "    width: 32px;\n",
              "  }\n",
              "\n",
              "  .colab-df-quickchart:hover {\n",
              "    background-color: var(--hover-bg-color);\n",
              "    box-shadow: 0 1px 2px rgba(60, 64, 67, 0.3), 0 1px 3px 1px rgba(60, 64, 67, 0.15);\n",
              "    fill: var(--button-hover-fill-color);\n",
              "  }\n",
              "\n",
              "  .colab-df-quickchart-complete:disabled,\n",
              "  .colab-df-quickchart-complete:disabled:hover {\n",
              "    background-color: var(--disabled-bg-color);\n",
              "    fill: var(--disabled-fill-color);\n",
              "    box-shadow: none;\n",
              "  }\n",
              "\n",
              "  .colab-df-spinner {\n",
              "    border: 2px solid var(--fill-color);\n",
              "    border-color: transparent;\n",
              "    border-bottom-color: var(--fill-color);\n",
              "    animation:\n",
              "      spin 1s steps(1) infinite;\n",
              "  }\n",
              "\n",
              "  @keyframes spin {\n",
              "    0% {\n",
              "      border-color: transparent;\n",
              "      border-bottom-color: var(--fill-color);\n",
              "      border-left-color: var(--fill-color);\n",
              "    }\n",
              "    20% {\n",
              "      border-color: transparent;\n",
              "      border-left-color: var(--fill-color);\n",
              "      border-top-color: var(--fill-color);\n",
              "    }\n",
              "    30% {\n",
              "      border-color: transparent;\n",
              "      border-left-color: var(--fill-color);\n",
              "      border-top-color: var(--fill-color);\n",
              "      border-right-color: var(--fill-color);\n",
              "    }\n",
              "    40% {\n",
              "      border-color: transparent;\n",
              "      border-right-color: var(--fill-color);\n",
              "      border-top-color: var(--fill-color);\n",
              "    }\n",
              "    60% {\n",
              "      border-color: transparent;\n",
              "      border-right-color: var(--fill-color);\n",
              "    }\n",
              "    80% {\n",
              "      border-color: transparent;\n",
              "      border-right-color: var(--fill-color);\n",
              "      border-bottom-color: var(--fill-color);\n",
              "    }\n",
              "    90% {\n",
              "      border-color: transparent;\n",
              "      border-bottom-color: var(--fill-color);\n",
              "    }\n",
              "  }\n",
              "</style>\n",
              "\n",
              "  <script>\n",
              "    async function quickchart(key) {\n",
              "      const quickchartButtonEl =\n",
              "        document.querySelector('#' + key + ' button');\n",
              "      quickchartButtonEl.disabled = true;  // To prevent multiple clicks.\n",
              "      quickchartButtonEl.classList.add('colab-df-spinner');\n",
              "      try {\n",
              "        const charts = await google.colab.kernel.invokeFunction(\n",
              "            'suggestCharts', [key], {});\n",
              "      } catch (error) {\n",
              "        console.error('Error during call to suggestCharts:', error);\n",
              "      }\n",
              "      quickchartButtonEl.classList.remove('colab-df-spinner');\n",
              "      quickchartButtonEl.classList.add('colab-df-quickchart-complete');\n",
              "    }\n",
              "    (() => {\n",
              "      let quickchartButtonEl =\n",
              "        document.querySelector('#df-4cc56b6e-4cd4-4d14-941c-e5f74b033617 button');\n",
              "      quickchartButtonEl.style.display =\n",
              "        google.colab.kernel.accessAllowed ? 'block' : 'none';\n",
              "    })();\n",
              "  </script>\n",
              "</div>\n",
              "    </div>\n",
              "  </div>\n"
            ]
          },
          "metadata": {},
          "execution_count": 230
        }
      ]
    },
    {
      "cell_type": "code",
      "source": [
        "#p-values\n",
        "import statsmodels.api as sm\n",
        "import numpy as np\n",
        "\n",
        "#Prepare your predictor variables (x) AND TARGET VARIABLE(Y)\n",
        "\n",
        "#Add a constant term to the predictor variables\n",
        "X =  sm.add_constant(X_train)\n",
        "\n",
        "\n",
        "\n",
        "#Fit the regression model\n",
        "model = sm.OLS(y_train, X_train)\n",
        "result = model.fit()\n",
        "\n",
        "#Retrieve the p-values\n",
        "p_value = result.pvalues\n",
        "\n",
        "print(p_value)"
      ],
      "metadata": {
        "colab": {
          "base_uri": "https://localhost:8080/"
        },
        "id": "ylctaxe1hrTS",
        "outputId": "9cbdb162-a397-4d48-852d-1035997884fe"
      },
      "execution_count": 231,
      "outputs": [
        {
          "output_type": "stream",
          "name": "stdout",
          "text": [
            "MedInc         0.000000e+00\n",
            "HouseAge      7.378162e-165\n",
            "AveRooms      2.108007e-182\n",
            "AveBedrms     7.501425e-153\n",
            "Population     3.166271e-04\n",
            "AveOccup       9.724166e-18\n",
            "dtype: float64\n"
          ]
        }
      ]
    },
    {
      "cell_type": "code",
      "source": [
        "model2 = LinearRegression()"
      ],
      "metadata": {
        "id": "0z9rJZooVKkw"
      },
      "execution_count": 232,
      "outputs": []
    },
    {
      "cell_type": "code",
      "source": [
        "X1 = df.drop(['MedHouseVal', 'AveRooms', 'Population', 'AveOccup', 'Latitude', 'Longitude'], axis=1)"
      ],
      "metadata": {
        "id": "ExT7mttAas-3"
      },
      "execution_count": 233,
      "outputs": []
    },
    {
      "cell_type": "code",
      "source": [
        "y1 = df['MedHouseVal']"
      ],
      "metadata": {
        "id": "_p3-6FxKdfWv"
      },
      "execution_count": 234,
      "outputs": []
    },
    {
      "cell_type": "code",
      "source": [
        "#Slipt the data into training and testing sets\n",
        "X1_train, X1_test, y1_train, y1_test = train_test_split(X1, y1,\n",
        "                                                    test_size=0.2,\n",
        "                                                    random_state=42)"
      ],
      "metadata": {
        "id": "RQDDf_WLe8Hu"
      },
      "execution_count": 235,
      "outputs": []
    },
    {
      "cell_type": "code",
      "source": [
        "model2.fit(X1_train, y1_train)"
      ],
      "metadata": {
        "colab": {
          "base_uri": "https://localhost:8080/",
          "height": 74
        },
        "id": "m3D14tK6fFWv",
        "outputId": "c65f3c25-9ff2-4d58-d8e7-ff3d81561903"
      },
      "execution_count": 236,
      "outputs": [
        {
          "output_type": "execute_result",
          "data": {
            "text/plain": [
              "LinearRegression()"
            ],
            "text/html": [
              "<style>#sk-container-id-8 {color: black;background-color: white;}#sk-container-id-8 pre{padding: 0;}#sk-container-id-8 div.sk-toggleable {background-color: white;}#sk-container-id-8 label.sk-toggleable__label {cursor: pointer;display: block;width: 100%;margin-bottom: 0;padding: 0.3em;box-sizing: border-box;text-align: center;}#sk-container-id-8 label.sk-toggleable__label-arrow:before {content: \"▸\";float: left;margin-right: 0.25em;color: #696969;}#sk-container-id-8 label.sk-toggleable__label-arrow:hover:before {color: black;}#sk-container-id-8 div.sk-estimator:hover label.sk-toggleable__label-arrow:before {color: black;}#sk-container-id-8 div.sk-toggleable__content {max-height: 0;max-width: 0;overflow: hidden;text-align: left;background-color: #f0f8ff;}#sk-container-id-8 div.sk-toggleable__content pre {margin: 0.2em;color: black;border-radius: 0.25em;background-color: #f0f8ff;}#sk-container-id-8 input.sk-toggleable__control:checked~div.sk-toggleable__content {max-height: 200px;max-width: 100%;overflow: auto;}#sk-container-id-8 input.sk-toggleable__control:checked~label.sk-toggleable__label-arrow:before {content: \"▾\";}#sk-container-id-8 div.sk-estimator input.sk-toggleable__control:checked~label.sk-toggleable__label {background-color: #d4ebff;}#sk-container-id-8 div.sk-label input.sk-toggleable__control:checked~label.sk-toggleable__label {background-color: #d4ebff;}#sk-container-id-8 input.sk-hidden--visually {border: 0;clip: rect(1px 1px 1px 1px);clip: rect(1px, 1px, 1px, 1px);height: 1px;margin: -1px;overflow: hidden;padding: 0;position: absolute;width: 1px;}#sk-container-id-8 div.sk-estimator {font-family: monospace;background-color: #f0f8ff;border: 1px dotted black;border-radius: 0.25em;box-sizing: border-box;margin-bottom: 0.5em;}#sk-container-id-8 div.sk-estimator:hover {background-color: #d4ebff;}#sk-container-id-8 div.sk-parallel-item::after {content: \"\";width: 100%;border-bottom: 1px solid gray;flex-grow: 1;}#sk-container-id-8 div.sk-label:hover label.sk-toggleable__label {background-color: #d4ebff;}#sk-container-id-8 div.sk-serial::before {content: \"\";position: absolute;border-left: 1px solid gray;box-sizing: border-box;top: 0;bottom: 0;left: 50%;z-index: 0;}#sk-container-id-8 div.sk-serial {display: flex;flex-direction: column;align-items: center;background-color: white;padding-right: 0.2em;padding-left: 0.2em;position: relative;}#sk-container-id-8 div.sk-item {position: relative;z-index: 1;}#sk-container-id-8 div.sk-parallel {display: flex;align-items: stretch;justify-content: center;background-color: white;position: relative;}#sk-container-id-8 div.sk-item::before, #sk-container-id-8 div.sk-parallel-item::before {content: \"\";position: absolute;border-left: 1px solid gray;box-sizing: border-box;top: 0;bottom: 0;left: 50%;z-index: -1;}#sk-container-id-8 div.sk-parallel-item {display: flex;flex-direction: column;z-index: 1;position: relative;background-color: white;}#sk-container-id-8 div.sk-parallel-item:first-child::after {align-self: flex-end;width: 50%;}#sk-container-id-8 div.sk-parallel-item:last-child::after {align-self: flex-start;width: 50%;}#sk-container-id-8 div.sk-parallel-item:only-child::after {width: 0;}#sk-container-id-8 div.sk-dashed-wrapped {border: 1px dashed gray;margin: 0 0.4em 0.5em 0.4em;box-sizing: border-box;padding-bottom: 0.4em;background-color: white;}#sk-container-id-8 div.sk-label label {font-family: monospace;font-weight: bold;display: inline-block;line-height: 1.2em;}#sk-container-id-8 div.sk-label-container {text-align: center;}#sk-container-id-8 div.sk-container {/* jupyter's `normalize.less` sets `[hidden] { display: none; }` but bootstrap.min.css set `[hidden] { display: none !important; }` so we also need the `!important` here to be able to override the default hidden behavior on the sphinx rendered scikit-learn.org. See: https://github.com/scikit-learn/scikit-learn/issues/21755 */display: inline-block !important;position: relative;}#sk-container-id-8 div.sk-text-repr-fallback {display: none;}</style><div id=\"sk-container-id-8\" class=\"sk-top-container\"><div class=\"sk-text-repr-fallback\"><pre>LinearRegression()</pre><b>In a Jupyter environment, please rerun this cell to show the HTML representation or trust the notebook. <br />On GitHub, the HTML representation is unable to render, please try loading this page with nbviewer.org.</b></div><div class=\"sk-container\" hidden><div class=\"sk-item\"><div class=\"sk-estimator sk-toggleable\"><input class=\"sk-toggleable__control sk-hidden--visually\" id=\"sk-estimator-id-8\" type=\"checkbox\" checked><label for=\"sk-estimator-id-8\" class=\"sk-toggleable__label sk-toggleable__label-arrow\">LinearRegression</label><div class=\"sk-toggleable__content\"><pre>LinearRegression()</pre></div></div></div></div></div>"
            ]
          },
          "metadata": {},
          "execution_count": 236
        }
      ]
    },
    {
      "cell_type": "code",
      "source": [
        "model2.intercept_"
      ],
      "metadata": {
        "colab": {
          "base_uri": "https://localhost:8080/"
        },
        "id": "URkjV26ZfmaI",
        "outputId": "0fd826b4-d809-460c-e035-cfc3930e7ebb"
      },
      "execution_count": 237,
      "outputs": [
        {
          "output_type": "execute_result",
          "data": {
            "text/plain": [
              "-0.16939866660034752"
            ]
          },
          "metadata": {},
          "execution_count": 237
        }
      ]
    },
    {
      "cell_type": "code",
      "source": [
        "model2.coef_"
      ],
      "metadata": {
        "colab": {
          "base_uri": "https://localhost:8080/"
        },
        "id": "S6weSk3Xfr-S",
        "outputId": "6653fc7c-c6b7-4731-b449-577b631cde00"
      },
      "execution_count": 238,
      "outputs": [
        {
          "output_type": "execute_result",
          "data": {
            "text/plain": [
              "array([0.43431898, 0.01764319, 0.04661222])"
            ]
          },
          "metadata": {},
          "execution_count": 238
        }
      ]
    },
    {
      "cell_type": "code",
      "source": [
        "y1_pred = model2.predict(X1_test)"
      ],
      "metadata": {
        "id": "gkVarEL_f1x2"
      },
      "execution_count": 239,
      "outputs": []
    },
    {
      "cell_type": "code",
      "source": [
        "y1_pred"
      ],
      "metadata": {
        "colab": {
          "base_uri": "https://localhost:8080/"
        },
        "id": "t3gKhfD9gOhx",
        "outputId": "123c3b37-41bd-4e84-c53b-658dcd2617e0"
      },
      "execution_count": 240,
      "outputs": [
        {
          "output_type": "execute_result",
          "data": {
            "text/plain": [
              "array([1.04950913, 1.51492009, 2.31479717, ..., 4.32450877, 1.72116012,\n",
              "       1.72145295])"
            ]
          },
          "metadata": {},
          "execution_count": 240
        }
      ]
    },
    {
      "cell_type": "code",
      "source": [
        "residuals2 = y1_test - y1_pred"
      ],
      "metadata": {
        "id": "YNLyuTHIgRoJ"
      },
      "execution_count": 241,
      "outputs": []
    },
    {
      "cell_type": "code",
      "source": [
        "import matplotlib.pyplot as plt\n",
        "plt.hist(residuals2)"
      ],
      "metadata": {
        "colab": {
          "base_uri": "https://localhost:8080/",
          "height": 538
        },
        "id": "8WPLtvw-gUUa",
        "outputId": "8ff1f4ce-2472-46a6-cc01-695fc93593b4"
      },
      "execution_count": 242,
      "outputs": [
        {
          "output_type": "execute_result",
          "data": {
            "text/plain": [
              "(array([   2.,   13.,  116., 1541., 1577.,  564.,  193.,   90.,   26.,\n",
              "           6.]),\n",
              " array([-3.40971267, -2.63163408, -1.85355548, -1.07547689, -0.29739829,\n",
              "         0.4806803 ,  1.2587589 ,  2.03683749,  2.81491609,  3.59299468,\n",
              "         4.37107328]),\n",
              " <BarContainer object of 10 artists>)"
            ]
          },
          "metadata": {},
          "execution_count": 242
        },
        {
          "output_type": "display_data",
          "data": {
            "text/plain": [
              "<Figure size 640x480 with 1 Axes>"
            ],
            "image/png": "[encoded data removed]"
          },
          "metadata": {}
        }
      ]
    },
    {
      "cell_type": "code",
      "source": [
        "residuals2.mean()"
      ],
      "metadata": {
        "colab": {
          "base_uri": "https://localhost:8080/"
        },
        "id": "q22zHfLUgsdr",
        "outputId": "9b2e1987-bf13-4160-8561-3ad87cb81cf7"
      },
      "execution_count": 243,
      "outputs": [
        {
          "output_type": "execute_result",
          "data": {
            "text/plain": [
              "0.002202665410702365"
            ]
          },
          "metadata": {},
          "execution_count": 243
        }
      ]
    },
    {
      "cell_type": "code",
      "source": [
        "residuals2.median()"
      ],
      "metadata": {
        "colab": {
          "base_uri": "https://localhost:8080/"
        },
        "id": "MrJoEnvzgvpu",
        "outputId": "0ad6351d-440f-427b-b40e-a082f3be20af"
      },
      "execution_count": 244,
      "outputs": [
        {
          "output_type": "execute_result",
          "data": {
            "text/plain": [
              "-0.15123984080647745"
            ]
          },
          "metadata": {},
          "execution_count": 244
        }
      ]
    },
    {
      "cell_type": "code",
      "source": [
        "residuals2.mode()"
      ],
      "metadata": {
        "colab": {
          "base_uri": "https://localhost:8080/"
        },
        "id": "A6HZhh5Ngx_S",
        "outputId": "5f957201-2033-4d3f-accd-4a4c13b368a2"
      },
      "execution_count": 245,
      "outputs": [
        {
          "output_type": "execute_result",
          "data": {
            "text/plain": [
              "0      -3.409713\n",
              "1      -3.184231\n",
              "2      -2.474557\n",
              "3      -2.402118\n",
              "4      -2.351247\n",
              "          ...   \n",
              "4123    3.699981\n",
              "4124    3.739495\n",
              "4125    3.811968\n",
              "4126    4.155694\n",
              "4127    4.371073\n",
              "Name: MedHouseVal, Length: 4128, dtype: float64"
            ]
          },
          "metadata": {},
          "execution_count": 245
        }
      ]
    },
    {
      "cell_type": "code",
      "source": [
        "residuals2.min()"
      ],
      "metadata": {
        "colab": {
          "base_uri": "https://localhost:8080/"
        },
        "id": "_44bIUMYg3DB",
        "outputId": "b4d11b5b-1662-4870-ec34-1a26e0b5c858"
      },
      "execution_count": 246,
      "outputs": [
        {
          "output_type": "execute_result",
          "data": {
            "text/plain": [
              "-3.4097126733305414"
            ]
          },
          "metadata": {},
          "execution_count": 246
        }
      ]
    },
    {
      "cell_type": "code",
      "source": [
        "residuals2.max()"
      ],
      "metadata": {
        "colab": {
          "base_uri": "https://localhost:8080/"
        },
        "id": "r2OEySc3g5L6",
        "outputId": "1c7025fe-58b5-4c3d-ea80-bb943eba24a3"
      },
      "execution_count": 247,
      "outputs": [
        {
          "output_type": "execute_result",
          "data": {
            "text/plain": [
              "4.371073276907229"
            ]
          },
          "metadata": {},
          "execution_count": 247
        }
      ]
    },
    {
      "cell_type": "code",
      "source": [
        "residuals2.std()"
      ],
      "metadata": {
        "colab": {
          "base_uri": "https://localhost:8080/"
        },
        "id": "I-rDCXPtg6uR",
        "outputId": "206f0a66-aabf-4fa4-cd3e-0c5399374150"
      },
      "execution_count": 248,
      "outputs": [
        {
          "output_type": "execute_result",
          "data": {
            "text/plain": [
              "0.8148994852874344"
            ]
          },
          "metadata": {},
          "execution_count": 248
        }
      ]
    },
    {
      "cell_type": "code",
      "source": [
        "from sklearn.metrics import mean_squared_error, r2_score"
      ],
      "metadata": {
        "id": "PTz3taNlhUZP"
      },
      "execution_count": 249,
      "outputs": []
    },
    {
      "cell_type": "code",
      "source": [
        "mse1 = mean_squared_error(y1_test, y1_pred)\n",
        "r21 = r2_score(y1_test, y1_pred)\n",
        "print(mse1)\n",
        "print(r21)"
      ],
      "metadata": {
        "colab": {
          "base_uri": "https://localhost:8080/"
        },
        "id": "bOo9_rF7hccZ",
        "outputId": "83b148b4-498b-435b-8c21-b39789212112"
      },
      "execution_count": 250,
      "outputs": [
        {
          "output_type": "stream",
          "name": "stdout",
          "text": [
            "0.6639051553248732\n",
            "0.493360342954836\n"
          ]
        }
      ]
    },
    {
      "cell_type": "markdown",
      "source": [
        "- PredictedMedHouseVal = -0.16939866660034752 + 0.43431898 + 0.0176431 + 0.04661222\n"
      ],
      "metadata": {
        "id": "B3_0EgeniyD8"
      }
    },
    {
      "cell_type": "markdown",
      "source": [
        "## Model 3"
      ],
      "metadata": {
        "id": "yXS6G0p0lzAK"
      }
    },
    {
      "cell_type": "code",
      "source": [
        "df2 = df.copy()"
      ],
      "metadata": {
        "id": "mm45YaqHm-bv"
      },
      "execution_count": 256,
      "outputs": []
    },
    {
      "cell_type": "code",
      "source": [
        "plt.boxplot(df2)"
      ],
      "metadata": {
        "colab": {
          "base_uri": "https://localhost:8080/",
          "height": 1000
        },
        "id": "zVnxa0UTnszV",
        "outputId": "486c38f2-7cc7-4ba4-d13a-ee39617362cb"
      },
      "execution_count": 257,
      "outputs": [
        {
          "output_type": "execute_result",
          "data": {
            "text/plain": [
              "{'whiskers': [<matplotlib.lines.Line2D at 0x785a90229c30>,\n",
              "  <matplotlib.lines.Line2D at 0x785a90229ed0>,\n",
              "  <matplotlib.lines.Line2D at 0x785a9022ae90>,\n",
              "  <matplotlib.lines.Line2D at 0x785a9022b130>,\n",
              "  <matplotlib.lines.Line2D at 0x785a90264130>,\n",
              "  <matplotlib.lines.Line2D at 0x785a902643d0>,\n",
              "  <matplotlib.lines.Line2D at 0x785a90265390>,\n",
              "  <matplotlib.lines.Line2D at 0x785a90265630>,\n",
              "  <matplotlib.lines.Line2D at 0x785a90266620>,\n",
              "  <matplotlib.lines.Line2D at 0x785a902668c0>,\n",
              "  <matplotlib.lines.Line2D at 0x785a90267880>,\n",
              "  <matplotlib.lines.Line2D at 0x785a90267b20>,\n",
              "  <matplotlib.lines.Line2D at 0x785a90294b20>,\n",
              "  <matplotlib.lines.Line2D at 0x785a90294dc0>,\n",
              "  <matplotlib.lines.Line2D at 0x785a90295d80>,\n",
              "  <matplotlib.lines.Line2D at 0x785a90296020>,\n",
              "  <matplotlib.lines.Line2D at 0x785a90296fe0>,\n",
              "  <matplotlib.lines.Line2D at 0x785a90297280>],\n",
              " 'caps': [<matplotlib.lines.Line2D at 0x785a9022a170>,\n",
              "  <matplotlib.lines.Line2D at 0x785a9022a410>,\n",
              "  <matplotlib.lines.Line2D at 0x785a9022b3d0>,\n",
              "  <matplotlib.lines.Line2D at 0x785a9022b670>,\n",
              "  <matplotlib.lines.Line2D at 0x785a90264670>,\n",
              "  <matplotlib.lines.Line2D at 0x785a90264910>,\n",
              "  <matplotlib.lines.Line2D at 0x785a902658d0>,\n",
              "  <matplotlib.lines.Line2D at 0x785a90265b70>,\n",
              "  <matplotlib.lines.Line2D at 0x785a90266b60>,\n",
              "  <matplotlib.lines.Line2D at 0x785a90266e00>,\n",
              "  <matplotlib.lines.Line2D at 0x785a90267dc0>,\n",
              "  <matplotlib.lines.Line2D at 0x785a902940a0>,\n",
              "  <matplotlib.lines.Line2D at 0x785a90295060>,\n",
              "  <matplotlib.lines.Line2D at 0x785a90295300>,\n",
              "  <matplotlib.lines.Line2D at 0x785a902962c0>,\n",
              "  <matplotlib.lines.Line2D at 0x785a90296560>,\n",
              "  <matplotlib.lines.Line2D at 0x785a90297520>,\n",
              "  <matplotlib.lines.Line2D at 0x785a902977c0>],\n",
              " 'boxes': [<matplotlib.lines.Line2D at 0x785a90229990>,\n",
              "  <matplotlib.lines.Line2D at 0x785a9022abf0>,\n",
              "  <matplotlib.lines.Line2D at 0x785a9022be50>,\n",
              "  <matplotlib.lines.Line2D at 0x785a902650f0>,\n",
              "  <matplotlib.lines.Line2D at 0x785a90266380>,\n",
              "  <matplotlib.lines.Line2D at 0x785a902675e0>,\n",
              "  <matplotlib.lines.Line2D at 0x785a90294880>,\n",
              "  <matplotlib.lines.Line2D at 0x785a90295ae0>,\n",
              "  <matplotlib.lines.Line2D at 0x785a90296d40>],\n",
              " 'medians': [<matplotlib.lines.Line2D at 0x785a9022a6b0>,\n",
              "  <matplotlib.lines.Line2D at 0x785a9022b910>,\n",
              "  <matplotlib.lines.Line2D at 0x785a90264bb0>,\n",
              "  <matplotlib.lines.Line2D at 0x785a90265e40>,\n",
              "  <matplotlib.lines.Line2D at 0x785a902670a0>,\n",
              "  <matplotlib.lines.Line2D at 0x785a90294340>,\n",
              "  <matplotlib.lines.Line2D at 0x785a902955a0>,\n",
              "  <matplotlib.lines.Line2D at 0x785a90296800>,\n",
              "  <matplotlib.lines.Line2D at 0x785a90297a60>],\n",
              " 'fliers': [<matplotlib.lines.Line2D at 0x785a9022a950>,\n",
              "  <matplotlib.lines.Line2D at 0x785a9022bbb0>,\n",
              "  <matplotlib.lines.Line2D at 0x785a90264e50>,\n",
              "  <matplotlib.lines.Line2D at 0x785a902660e0>,\n",
              "  <matplotlib.lines.Line2D at 0x785a90267340>,\n",
              "  <matplotlib.lines.Line2D at 0x785a902945e0>,\n",
              "  <matplotlib.lines.Line2D at 0x785a90295840>,\n",
              "  <matplotlib.lines.Line2D at 0x785a90296aa0>,\n",
              "  <matplotlib.lines.Line2D at 0x785a90297d00>],\n",
              " 'means': []}"
            ]
          },
          "metadata": {},
          "execution_count": 257
        },
        {
          "output_type": "display_data",
          "data": {
            "text/plain": [
              "<Figure size 640x480 with 1 Axes>"
            ],
            "image/png": "[encoded data removed]"
          },
          "metadata": {}
        }
      ]
    },
    {
      "cell_type": "code",
      "source": [
        "subset_df=df[df['AveOccup']<100]\n",
        "subset_df=df[df['Population']<400]"
      ],
      "metadata": {
        "id": "3CUf3Nwkpwc5"
      },
      "execution_count": 267,
      "outputs": []
    },
    {
      "cell_type": "code",
      "source": [
        "plt.boxplot(subset_df)"
      ],
      "metadata": {
        "colab": {
          "base_uri": "https://localhost:8080/",
          "height": 1000
        },
        "id": "HCsTaoKGqYrV",
        "outputId": "ce46c2e4-2da8-47d0-9a46-61fb95196b2f"
      },
      "execution_count": 268,
      "outputs": [
        {
          "output_type": "execute_result",
          "data": {
            "text/plain": [
              "{'whiskers': [<matplotlib.lines.Line2D at 0x785a8fcf1570>,\n",
              "  <matplotlib.lines.Line2D at 0x785a8fcf1810>,\n",
              "  <matplotlib.lines.Line2D at 0x785a8fcf27d0>,\n",
              "  <matplotlib.lines.Line2D at 0x785a8fcf2a70>,\n",
              "  <matplotlib.lines.Line2D at 0x785a8fcf3a30>,\n",
              "  <matplotlib.lines.Line2D at 0x785a8fc84e20>,\n",
              "  <matplotlib.lines.Line2D at 0x785a8fb34970>,\n",
              "  <matplotlib.lines.Line2D at 0x785a8fb34c10>,\n",
              "  <matplotlib.lines.Line2D at 0x785a8fb35bd0>,\n",
              "  <matplotlib.lines.Line2D at 0x785a8fb35e70>,\n",
              "  <matplotlib.lines.Line2D at 0x785a8fb36e30>,\n",
              "  <matplotlib.lines.Line2D at 0x785a8fb370d0>,\n",
              "  <matplotlib.lines.Line2D at 0x785a8fb6c0d0>,\n",
              "  <matplotlib.lines.Line2D at 0x785a8fb6c370>,\n",
              "  <matplotlib.lines.Line2D at 0x785a8fb6d330>,\n",
              "  <matplotlib.lines.Line2D at 0x785a8fb6d5d0>,\n",
              "  <matplotlib.lines.Line2D at 0x785a8fb6e590>,\n",
              "  <matplotlib.lines.Line2D at 0x785a8fb6e830>],\n",
              " 'caps': [<matplotlib.lines.Line2D at 0x785a8fcf1ab0>,\n",
              "  <matplotlib.lines.Line2D at 0x785a8fcf1d50>,\n",
              "  <matplotlib.lines.Line2D at 0x785a8fcf2d10>,\n",
              "  <matplotlib.lines.Line2D at 0x785a8fcf2fb0>,\n",
              "  <matplotlib.lines.Line2D at 0x785a8fcf3c10>,\n",
              "  <matplotlib.lines.Line2D at 0x785a8fcf3eb0>,\n",
              "  <matplotlib.lines.Line2D at 0x785a8fb34eb0>,\n",
              "  <matplotlib.lines.Line2D at 0x785a8fb35150>,\n",
              "  <matplotlib.lines.Line2D at 0x785a8fb36110>,\n",
              "  <matplotlib.lines.Line2D at 0x785a8fb363b0>,\n",
              "  <matplotlib.lines.Line2D at 0x785a8fb37370>,\n",
              "  <matplotlib.lines.Line2D at 0x785a8fb37610>,\n",
              "  <matplotlib.lines.Line2D at 0x785a8fb6c610>,\n",
              "  <matplotlib.lines.Line2D at 0x785a8fb6c8b0>,\n",
              "  <matplotlib.lines.Line2D at 0x785a8fb6d870>,\n",
              "  <matplotlib.lines.Line2D at 0x785a8fb6db10>,\n",
              "  <matplotlib.lines.Line2D at 0x785a8fb6ead0>,\n",
              "  <matplotlib.lines.Line2D at 0x785a8fb6ed70>],\n",
              " 'boxes': [<matplotlib.lines.Line2D at 0x785a8fcf12d0>,\n",
              "  <matplotlib.lines.Line2D at 0x785a8fcf2530>,\n",
              "  <matplotlib.lines.Line2D at 0x785a8fcf3790>,\n",
              "  <matplotlib.lines.Line2D at 0x785a8fb346d0>,\n",
              "  <matplotlib.lines.Line2D at 0x785a8fb35930>,\n",
              "  <matplotlib.lines.Line2D at 0x785a8fb36b90>,\n",
              "  <matplotlib.lines.Line2D at 0x785a8fb37df0>,\n",
              "  <matplotlib.lines.Line2D at 0x785a8fb6d090>,\n",
              "  <matplotlib.lines.Line2D at 0x785a8fb6e2f0>],\n",
              " 'medians': [<matplotlib.lines.Line2D at 0x785a8fcf1ff0>,\n",
              "  <matplotlib.lines.Line2D at 0x785a8fcf3250>,\n",
              "  <matplotlib.lines.Line2D at 0x785a8fb34190>,\n",
              "  <matplotlib.lines.Line2D at 0x785a8fb353f0>,\n",
              "  <matplotlib.lines.Line2D at 0x785a8fb36650>,\n",
              "  <matplotlib.lines.Line2D at 0x785a8fb378b0>,\n",
              "  <matplotlib.lines.Line2D at 0x785a8fb6cb50>,\n",
              "  <matplotlib.lines.Line2D at 0x785a8fb6ddb0>,\n",
              "  <matplotlib.lines.Line2D at 0x785a8fb6f010>],\n",
              " 'fliers': [<matplotlib.lines.Line2D at 0x785a8fcf2290>,\n",
              "  <matplotlib.lines.Line2D at 0x785a8fcf34f0>,\n",
              "  <matplotlib.lines.Line2D at 0x785a8fb34430>,\n",
              "  <matplotlib.lines.Line2D at 0x785a8fb35690>,\n",
              "  <matplotlib.lines.Line2D at 0x785a8fb368f0>,\n",
              "  <matplotlib.lines.Line2D at 0x785a8fb37b50>,\n",
              "  <matplotlib.lines.Line2D at 0x785a8fb6cdf0>,\n",
              "  <matplotlib.lines.Line2D at 0x785a8fb6e050>,\n",
              "  <matplotlib.lines.Line2D at 0x785a8fb6f2b0>],\n",
              " 'means': []}"
            ]
          },
          "metadata": {},
          "execution_count": 268
        },
        {
          "output_type": "display_data",
          "data": {
            "text/plain": [
              "<Figure size 640x480 with 1 Axes>"
            ],
            "image/png": "[encoded data removed]"
          },
          "metadata": {}
        }
      ]
    },
    {
      "cell_type": "code",
      "source": [
        "X2 = subset_df.drop(['MedHouseVal'], axis = 1)\n",
        "y2 = subset_df['MedHouseVal']"
      ],
      "metadata": {
        "id": "vPUAiHMLsUzZ"
      },
      "execution_count": 269,
      "outputs": []
    },
    {
      "cell_type": "code",
      "source": [
        "model3 = LinearRegression()"
      ],
      "metadata": {
        "id": "KVDz-VX8sqVH"
      },
      "execution_count": null,
      "outputs": []
    },
    {
      "cell_type": "code",
      "source": [
        "X2_train, X2_test, y2_train, y2_test = train_test_split(X2, y2,\n",
        "                                                        test_size = 0.2,\n",
        "                                                        random_state= 42)"
      ],
      "metadata": {
        "id": "J5-Pu2oRsuDx"
      },
      "execution_count": 270,
      "outputs": []
    },
    {
      "cell_type": "code",
      "source": [
        "model3.fit(X2_train, y2_train)"
      ],
      "metadata": {
        "colab": {
          "base_uri": "https://localhost:8080/",
          "height": 74
        },
        "id": "uDCUrFdWtG0T",
        "outputId": "4a244622-b6e4-456e-ea13-6d016fbf6220"
      },
      "execution_count": 271,
      "outputs": [
        {
          "output_type": "execute_result",
          "data": {
            "text/plain": [
              "LinearRegression()"
            ],
            "text/html": [
              "<style>#sk-container-id-10 {color: black;background-color: white;}#sk-container-id-10 pre{padding: 0;}#sk-container-id-10 div.sk-toggleable {background-color: white;}#sk-container-id-10 label.sk-toggleable__label {cursor: pointer;display: block;width: 100%;margin-bottom: 0;padding: 0.3em;box-sizing: border-box;text-align: center;}#sk-container-id-10 label.sk-toggleable__label-arrow:before {content: \"▸\";float: left;margin-right: 0.25em;color: #696969;}#sk-container-id-10 label.sk-toggleable__label-arrow:hover:before {color: black;}#sk-container-id-10 div.sk-estimator:hover label.sk-toggleable__label-arrow:before {color: black;}#sk-container-id-10 div.sk-toggleable__content {max-height: 0;max-width: 0;overflow: hidden;text-align: left;background-color: #f0f8ff;}#sk-container-id-10 div.sk-toggleable__content pre {margin: 0.2em;color: black;border-radius: 0.25em;background-color: #f0f8ff;}#sk-container-id-10 input.sk-toggleable__control:checked~div.sk-toggleable__content {max-height: 200px;max-width: 100%;overflow: auto;}#sk-container-id-10 input.sk-toggleable__control:checked~label.sk-toggleable__label-arrow:before {content: \"▾\";}#sk-container-id-10 div.sk-estimator input.sk-toggleable__control:checked~label.sk-toggleable__label {background-color: #d4ebff;}#sk-container-id-10 div.sk-label input.sk-toggleable__control:checked~label.sk-toggleable__label {background-color: #d4ebff;}#sk-container-id-10 input.sk-hidden--visually {border: 0;clip: rect(1px 1px 1px 1px);clip: rect(1px, 1px, 1px, 1px);height: 1px;margin: -1px;overflow: hidden;padding: 0;position: absolute;width: 1px;}#sk-container-id-10 div.sk-estimator {font-family: monospace;background-color: #f0f8ff;border: 1px dotted black;border-radius: 0.25em;box-sizing: border-box;margin-bottom: 0.5em;}#sk-container-id-10 div.sk-estimator:hover {background-color: #d4ebff;}#sk-container-id-10 div.sk-parallel-item::after {content: \"\";width: 100%;border-bottom: 1px solid gray;flex-grow: 1;}#sk-container-id-10 div.sk-label:hover label.sk-toggleable__label {background-color: #d4ebff;}#sk-container-id-10 div.sk-serial::before {content: \"\";position: absolute;border-left: 1px solid gray;box-sizing: border-box;top: 0;bottom: 0;left: 50%;z-index: 0;}#sk-container-id-10 div.sk-serial {display: flex;flex-direction: column;align-items: center;background-color: white;padding-right: 0.2em;padding-left: 0.2em;position: relative;}#sk-container-id-10 div.sk-item {position: relative;z-index: 1;}#sk-container-id-10 div.sk-parallel {display: flex;align-items: stretch;justify-content: center;background-color: white;position: relative;}#sk-container-id-10 div.sk-item::before, #sk-container-id-10 div.sk-parallel-item::before {content: \"\";position: absolute;border-left: 1px solid gray;box-sizing: border-box;top: 0;bottom: 0;left: 50%;z-index: -1;}#sk-container-id-10 div.sk-parallel-item {display: flex;flex-direction: column;z-index: 1;position: relative;background-color: white;}#sk-container-id-10 div.sk-parallel-item:first-child::after {align-self: flex-end;width: 50%;}#sk-container-id-10 div.sk-parallel-item:last-child::after {align-self: flex-start;width: 50%;}#sk-container-id-10 div.sk-parallel-item:only-child::after {width: 0;}#sk-container-id-10 div.sk-dashed-wrapped {border: 1px dashed gray;margin: 0 0.4em 0.5em 0.4em;box-sizing: border-box;padding-bottom: 0.4em;background-color: white;}#sk-container-id-10 div.sk-label label {font-family: monospace;font-weight: bold;display: inline-block;line-height: 1.2em;}#sk-container-id-10 div.sk-label-container {text-align: center;}#sk-container-id-10 div.sk-container {/* jupyter's `normalize.less` sets `[hidden] { display: none; }` but bootstrap.min.css set `[hidden] { display: none !important; }` so we also need the `!important` here to be able to override the default hidden behavior on the sphinx rendered scikit-learn.org. See: https://github.com/scikit-learn/scikit-learn/issues/21755 */display: inline-block !important;position: relative;}#sk-container-id-10 div.sk-text-repr-fallback {display: none;}</style><div id=\"sk-container-id-10\" class=\"sk-top-container\"><div class=\"sk-text-repr-fallback\"><pre>LinearRegression()</pre><b>In a Jupyter environment, please rerun this cell to show the HTML representation or trust the notebook. <br />On GitHub, the HTML representation is unable to render, please try loading this page with nbviewer.org.</b></div><div class=\"sk-container\" hidden><div class=\"sk-item\"><div class=\"sk-estimator sk-toggleable\"><input class=\"sk-toggleable__control sk-hidden--visually\" id=\"sk-estimator-id-10\" type=\"checkbox\" checked><label for=\"sk-estimator-id-10\" class=\"sk-toggleable__label sk-toggleable__label-arrow\">LinearRegression</label><div class=\"sk-toggleable__content\"><pre>LinearRegression()</pre></div></div></div></div></div>"
            ]
          },
          "metadata": {},
          "execution_count": 271
        }
      ]
    },
    {
      "cell_type": "code",
      "source": [
        "model3.intercept_"
      ],
      "metadata": {
        "colab": {
          "base_uri": "https://localhost:8080/"
        },
        "id": "plQqZD_Ttcn2",
        "outputId": "35a792e8-fd1d-4654-dabd-6ff8342349d1"
      },
      "execution_count": 272,
      "outputs": [
        {
          "output_type": "execute_result",
          "data": {
            "text/plain": [
              "-32.773930682419234"
            ]
          },
          "metadata": {},
          "execution_count": 272
        }
      ]
    },
    {
      "cell_type": "code",
      "source": [
        "model3.coef_"
      ],
      "metadata": {
        "colab": {
          "base_uri": "https://localhost:8080/"
        },
        "id": "EuuLxxJ5t0Ad",
        "outputId": "ed4316a3-2cf6-4ebb-e6c5-69ffef286c16"
      },
      "execution_count": 273,
      "outputs": [
        {
          "output_type": "execute_result",
          "data": {
            "text/plain": [
              "array([ 2.41180438e-01, -1.61168561e-03,  8.94643304e-02, -3.21294203e-01,\n",
              "        5.07715607e-05, -1.38200757e-01, -4.63472649e-01, -4.24896819e-01])"
            ]
          },
          "metadata": {},
          "execution_count": 273
        }
      ]
    },
    {
      "cell_type": "code",
      "source": [
        "y2_pred = model3.predict(X2_test)"
      ],
      "metadata": {
        "id": "lnSdumkkt5Bi"
      },
      "execution_count": 276,
      "outputs": []
    },
    {
      "cell_type": "code",
      "source": [
        "residuals3 = y2_test - y2_pred"
      ],
      "metadata": {
        "id": "HbQe_MBiuEf_"
      },
      "execution_count": 277,
      "outputs": []
    },
    {
      "cell_type": "code",
      "source": [
        "import matplotlib.pyplot as plt\n",
        "plt.hist(residuals3)"
      ],
      "metadata": {
        "colab": {
          "base_uri": "https://localhost:8080/",
          "height": 520
        },
        "id": "DVNUDcWdusPL",
        "outputId": "abe3b7a8-24b6-4270-b6f9-d9497c1c3131"
      },
      "execution_count": 279,
      "outputs": [
        {
          "output_type": "execute_result",
          "data": {
            "text/plain": [
              "(array([ 1.,  5., 62., 97., 40., 27., 18.,  7.,  4.,  2.]),\n",
              " array([-2.60120362e+00, -1.95164413e+00, -1.30208463e+00, -6.52525138e-01,\n",
              "        -2.96564430e-03,  6.46593850e-01,  1.29615334e+00,  1.94571284e+00,\n",
              "         2.59527233e+00,  3.24483183e+00,  3.89439132e+00]),\n",
              " <BarContainer object of 10 artists>)"
            ]
          },
          "metadata": {},
          "execution_count": 279
        },
        {
          "output_type": "display_data",
          "data": {
            "text/plain": [
              "<Figure size 640x480 with 1 Axes>"
            ],
            "image/png": "[encoded data removed]"
          },
          "metadata": {}
        }
      ]
    },
    {
      "cell_type": "markdown",
      "source": [
        "## Model 4"
      ],
      "metadata": {
        "id": "89mrdyBvsDPE"
      }
    },
    {
      "cell_type": "code",
      "source": [],
      "metadata": {
        "id": "MzxAW4yXsG-U"
      },
      "execution_count": null,
      "outputs": []
    }
  ]
}